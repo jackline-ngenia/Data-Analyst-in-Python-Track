{
 "cells": [
  {
   "cell_type": "markdown",
   "metadata": {},
   "source": [
    "# Popular Data Science Questions\n",
    "Our goal in this project is to use Data Science Stack Exchange to determine what content should a data science education company create, based on interest by subject.\n",
    "\n",
    "## Stack Exchange\n",
    "#### What kind of questions are welcome on this site?\n",
    "On DSSE's help center's section on questions , we can read that we should:\n",
    "* Avoid subjective questions.\n",
    "* Ask practical questions about Data Science — there are adequate sites for theoretical questions.\n",
    "* Ask specific questions.\n",
    "* Make questions relevant to others.\n",
    "\n",
    "All of these characteristics, if employed, should be helpful attributes to our goal.\n",
    "\n",
    "In the help center we also learned that in addition to the sites mentioned in the Learn section, there are other two sites that are relevant:\n",
    "* Open Data (Dataset requests)\n",
    "* Computational Science (Software packages and algorithms in applied mathematics)\n",
    "\n",
    "#### What, other than questions, does DSSE's home subdivide into?\n",
    "On the home page we can see that we have four sections:\n",
    "* Questions — a list of all questions asked;\n",
    "* Tags — a list of tags (keywords or labels that categorize questions);\n",
    "* Users — a list of users;\n",
    "* Unanswered — a list of unanswered questions;\n",
    "\n",
    "The tagging system used by Stack Exchange looks just like what we need to solve this problem as it allow us to quantify how many questions are asked about each subject.\n",
    "\n",
    "Something else we can learn from exploring the help center, is that Stack Exchange's sites are heavily moderated by the community; this gives us some confidence in using the tagging system to derive conclusions.\n",
    "\n",
    "#### What information is available in each post?\n",
    "Looking, just as an example, at this question, some of the information we see is:\n",
    "* For both questions and answers:\n",
    " * The posts's score;\n",
    " * The posts's title;\n",
    " * The posts's author;\n",
    " * The posts's body;\n",
    "* For questions only:\n",
    " * How many users have it on their \"\n",
    " * The last time the question as active;\n",
    " * How many times the question was viewed;\n",
    " * Related questions;\n",
    " * The question's tags;\n",
    " \n",
    "## Stack Exchange Data Explorer\n",
    "Perusing the table names, a few stand out as relevant for our goal:\n",
    "* Posts\n",
    "* PostTags\n",
    "* Tags\n",
    "* TagSynonyms\n",
    "\n",
    "Running a few exploratory queries, leads us to focus our efforts on Posts table. For examples, the Tags table looked very promising as it tells us how many times each tag was used, but there's no way to tell just from this if the interest in these tags is recent or a thing from the past.\n",
    "\n",
    "## Getting the Data\n",
    "To get the relevant data we run the following query.\n",
    "\n",
    "\n",
    "## Exploring the Data\n",
    "We can read in the data while immediately making sure CreationDate will be stored as a datetime object:"
   ]
  },
  {
   "cell_type": "code",
   "execution_count": 1,
   "metadata": {},
   "outputs": [],
   "source": [
    "# We import everything that we'll use\n",
    "\n",
    "import pandas as pd\n",
    "import matplotlib.pyplot as plt\n",
    "import seaborn as sns\n",
    "\n",
    "%matplotlib inline"
   ]
  },
  {
   "cell_type": "code",
   "execution_count": 2,
   "metadata": {},
   "outputs": [],
   "source": [
    "questions = pd.read_csv(\"2019_questions.csv\", parse_dates=[\"CreationDate\"])"
   ]
  },
  {
   "cell_type": "markdown",
   "metadata": {},
   "source": [
    "Running questions.info() should gives a lot of useful information."
   ]
  },
  {
   "cell_type": "code",
   "execution_count": 3,
   "metadata": {},
   "outputs": [
    {
     "name": "stdout",
     "output_type": "stream",
     "text": [
      "<class 'pandas.core.frame.DataFrame'>\n",
      "RangeIndex: 7287 entries, 0 to 7286\n",
      "Data columns (total 7 columns):\n",
      " #   Column         Non-Null Count  Dtype         \n",
      "---  ------         --------------  -----         \n",
      " 0   Id             7287 non-null   int64         \n",
      " 1   CreationDate   7287 non-null   datetime64[ns]\n",
      " 2   Score          7287 non-null   int64         \n",
      " 3   ViewCount      7287 non-null   int64         \n",
      " 4   Tags           7287 non-null   object        \n",
      " 5   AnswerCount    7287 non-null   int64         \n",
      " 6   FavoriteCount  1548 non-null   float64       \n",
      "dtypes: datetime64[ns](1), float64(1), int64(4), object(1)\n",
      "memory usage: 398.6+ KB\n"
     ]
    }
   ],
   "source": [
    "questions.info()"
   ]
  },
  {
   "cell_type": "markdown",
   "metadata": {},
   "source": [
    "We see that only FavoriteCount has missing values. A missing value on this column probably means that the question was is not present in any users' favorite list, so we can replace the missing values with zero.\n",
    "\n",
    "The types seem adequate for every column, however, after we fill in the missing values on FavoriteCount, there is no reason to store the values as floats.\n",
    "\n",
    "Since the object dtype is a catch-all type, let's see what types the objects in questions[\"Tags\"] are."
   ]
  },
  {
   "cell_type": "code",
   "execution_count": 4,
   "metadata": {},
   "outputs": [
    {
     "data": {
      "text/plain": [
       "array([<class 'str'>], dtype=object)"
      ]
     },
     "execution_count": 4,
     "metadata": {},
     "output_type": "execute_result"
    }
   ],
   "source": [
    "questions[\"Tags\"].apply(lambda value: type(value)).unique()"
   ]
  },
  {
   "cell_type": "markdown",
   "metadata": {},
   "source": [
    "We see that every value in this column is a string. On Stack Exchange, each question can only have a maximum of five tags (source), so one way to deal with this column is to create five columns in questions called Tag1, Tag2, Tag3, Tag4, and Tag5 and populate the columns with the tags in each row.\n",
    "\n",
    "However, since doesn't help is relating tags from one question to another, we'll just keep them as a list.\n",
    "\n",
    "## Cleaning the Data\n",
    "We'll begin by fixing FavoriteCount."
   ]
  },
  {
   "cell_type": "code",
   "execution_count": 5,
   "metadata": {},
   "outputs": [
    {
     "data": {
      "text/plain": [
       "Id                        int64\n",
       "CreationDate     datetime64[ns]\n",
       "Score                     int64\n",
       "ViewCount                 int64\n",
       "Tags                     object\n",
       "AnswerCount               int64\n",
       "FavoriteCount             int32\n",
       "dtype: object"
      ]
     },
     "execution_count": 5,
     "metadata": {},
     "output_type": "execute_result"
    }
   ],
   "source": [
    "questions.fillna(value={\"FavoriteCount\": 0}, inplace=True)\n",
    "questions[\"FavoriteCount\"] = questions[\"FavoriteCount\"].astype(int)\n",
    "questions.dtypes"
   ]
  },
  {
   "cell_type": "markdown",
   "metadata": {},
   "source": [
    "Let's now modify Tags to make it easier to work with."
   ]
  },
  {
   "cell_type": "code",
   "execution_count": 6,
   "metadata": {},
   "outputs": [
    {
     "data": {
      "text/html": [
       "<div>\n",
       "<style scoped>\n",
       "    .dataframe tbody tr th:only-of-type {\n",
       "        vertical-align: middle;\n",
       "    }\n",
       "\n",
       "    .dataframe tbody tr th {\n",
       "        vertical-align: top;\n",
       "    }\n",
       "\n",
       "    .dataframe thead th {\n",
       "        text-align: right;\n",
       "    }\n",
       "</style>\n",
       "<table border=\"1\" class=\"dataframe\">\n",
       "  <thead>\n",
       "    <tr style=\"text-align: right;\">\n",
       "      <th></th>\n",
       "      <th>Id</th>\n",
       "      <th>CreationDate</th>\n",
       "      <th>Score</th>\n",
       "      <th>ViewCount</th>\n",
       "      <th>Tags</th>\n",
       "      <th>AnswerCount</th>\n",
       "      <th>FavoriteCount</th>\n",
       "    </tr>\n",
       "  </thead>\n",
       "  <tbody>\n",
       "    <tr>\n",
       "      <th>1639</th>\n",
       "      <td>44839</td>\n",
       "      <td>2019-01-31 00:42:00</td>\n",
       "      <td>0</td>\n",
       "      <td>135</td>\n",
       "      <td>[keras, loss-function]</td>\n",
       "      <td>2</td>\n",
       "      <td>0</td>\n",
       "    </tr>\n",
       "    <tr>\n",
       "      <th>1081</th>\n",
       "      <td>64832</td>\n",
       "      <td>2019-12-14 15:02:00</td>\n",
       "      <td>0</td>\n",
       "      <td>13</td>\n",
       "      <td>[neural-network, multiclass-classification]</td>\n",
       "      <td>0</td>\n",
       "      <td>0</td>\n",
       "    </tr>\n",
       "    <tr>\n",
       "      <th>3715</th>\n",
       "      <td>57633</td>\n",
       "      <td>2019-08-16 05:07:00</td>\n",
       "      <td>2</td>\n",
       "      <td>32</td>\n",
       "      <td>[machine-learning, machine-learning-model, nor...</td>\n",
       "      <td>1</td>\n",
       "      <td>0</td>\n",
       "    </tr>\n",
       "  </tbody>\n",
       "</table>\n",
       "</div>"
      ],
      "text/plain": [
       "         Id        CreationDate  Score  ViewCount  \\\n",
       "1639  44839 2019-01-31 00:42:00      0        135   \n",
       "1081  64832 2019-12-14 15:02:00      0         13   \n",
       "3715  57633 2019-08-16 05:07:00      2         32   \n",
       "\n",
       "                                                   Tags  AnswerCount  \\\n",
       "1639                             [keras, loss-function]            2   \n",
       "1081        [neural-network, multiclass-classification]            0   \n",
       "3715  [machine-learning, machine-learning-model, nor...            1   \n",
       "\n",
       "      FavoriteCount  \n",
       "1639              0  \n",
       "1081              0  \n",
       "3715              0  "
      ]
     },
     "execution_count": 6,
     "metadata": {},
     "output_type": "execute_result"
    }
   ],
   "source": [
    "questions[\"Tags\"] = questions[\"Tags\"].str.replace(\"^<|>$\", \"\").str.split(\"><\")\n",
    "questions.sample(3)"
   ]
  },
  {
   "cell_type": "markdown",
   "metadata": {},
   "source": [
    "## Most Used and Most Viewed\n",
    "We'll begin by counting how many times each tag was used"
   ]
  },
  {
   "cell_type": "code",
   "execution_count": 7,
   "metadata": {},
   "outputs": [],
   "source": [
    "tag_count = dict()\n",
    "\n",
    "for tags in questions[\"Tags\"]:\n",
    "    for tag in tags:\n",
    "        if tag in tag_count:\n",
    "            tag_count[tag] += 1\n",
    "        else:\n",
    "            tag_count[tag] = 1"
   ]
  },
  {
   "cell_type": "markdown",
   "metadata": {},
   "source": [
    "For improved aesthetics, let's transform tag_count in a dataframe."
   ]
  },
  {
   "cell_type": "code",
   "execution_count": 8,
   "metadata": {},
   "outputs": [
    {
     "data": {
      "text/html": [
       "<div>\n",
       "<style scoped>\n",
       "    .dataframe tbody tr th:only-of-type {\n",
       "        vertical-align: middle;\n",
       "    }\n",
       "\n",
       "    .dataframe tbody tr th {\n",
       "        vertical-align: top;\n",
       "    }\n",
       "\n",
       "    .dataframe thead th {\n",
       "        text-align: right;\n",
       "    }\n",
       "</style>\n",
       "<table border=\"1\" class=\"dataframe\">\n",
       "  <thead>\n",
       "    <tr style=\"text-align: right;\">\n",
       "      <th></th>\n",
       "      <th>Count</th>\n",
       "    </tr>\n",
       "  </thead>\n",
       "  <tbody>\n",
       "    <tr>\n",
       "      <th>nlp</th>\n",
       "      <td>422</td>\n",
       "    </tr>\n",
       "    <tr>\n",
       "      <th>lstm</th>\n",
       "      <td>312</td>\n",
       "    </tr>\n",
       "    <tr>\n",
       "      <th>rnn</th>\n",
       "      <td>117</td>\n",
       "    </tr>\n",
       "    <tr>\n",
       "      <th>multiclass-classification</th>\n",
       "      <td>111</td>\n",
       "    </tr>\n",
       "    <tr>\n",
       "      <th>multilabel-classification</th>\n",
       "      <td>78</td>\n",
       "    </tr>\n",
       "    <tr>\n",
       "      <th>machine-learning</th>\n",
       "      <td>2269</td>\n",
       "    </tr>\n",
       "    <tr>\n",
       "      <th>deep-learning</th>\n",
       "      <td>970</td>\n",
       "    </tr>\n",
       "    <tr>\n",
       "      <th>machine-learning-model</th>\n",
       "      <td>182</td>\n",
       "    </tr>\n",
       "    <tr>\n",
       "      <th>performance</th>\n",
       "      <td>24</td>\n",
       "    </tr>\n",
       "    <tr>\n",
       "      <th>features</th>\n",
       "      <td>23</td>\n",
       "    </tr>\n",
       "  </tbody>\n",
       "</table>\n",
       "</div>"
      ],
      "text/plain": [
       "                           Count\n",
       "nlp                          422\n",
       "lstm                         312\n",
       "rnn                          117\n",
       "multiclass-classification    111\n",
       "multilabel-classification     78\n",
       "machine-learning            2269\n",
       "deep-learning                970\n",
       "machine-learning-model       182\n",
       "performance                   24\n",
       "features                      23"
      ]
     },
     "execution_count": 8,
     "metadata": {},
     "output_type": "execute_result"
    }
   ],
   "source": [
    "tag_count = pd.DataFrame.from_dict(tag_count, orient=\"index\")\n",
    "tag_count.rename(columns={0: \"Count\"}, inplace=True)\n",
    "tag_count.head(10)"
   ]
  },
  {
   "cell_type": "markdown",
   "metadata": {},
   "source": [
    "Let's now sort this dataframe by Count and visualize the top 20 results."
   ]
  },
  {
   "cell_type": "code",
   "execution_count": 9,
   "metadata": {},
   "outputs": [
    {
     "data": {
      "text/html": [
       "<div>\n",
       "<style scoped>\n",
       "    .dataframe tbody tr th:only-of-type {\n",
       "        vertical-align: middle;\n",
       "    }\n",
       "\n",
       "    .dataframe tbody tr th {\n",
       "        vertical-align: top;\n",
       "    }\n",
       "\n",
       "    .dataframe thead th {\n",
       "        text-align: right;\n",
       "    }\n",
       "</style>\n",
       "<table border=\"1\" class=\"dataframe\">\n",
       "  <thead>\n",
       "    <tr style=\"text-align: right;\">\n",
       "      <th></th>\n",
       "      <th>Count</th>\n",
       "    </tr>\n",
       "  </thead>\n",
       "  <tbody>\n",
       "    <tr>\n",
       "      <th>machine-learning-model</th>\n",
       "      <td>182</td>\n",
       "    </tr>\n",
       "    <tr>\n",
       "      <th>statistics</th>\n",
       "      <td>190</td>\n",
       "    </tr>\n",
       "    <tr>\n",
       "      <th>r</th>\n",
       "      <td>217</td>\n",
       "    </tr>\n",
       "    <tr>\n",
       "      <th>predictive-modeling</th>\n",
       "      <td>223</td>\n",
       "    </tr>\n",
       "    <tr>\n",
       "      <th>clustering</th>\n",
       "      <td>239</td>\n",
       "    </tr>\n",
       "    <tr>\n",
       "      <th>dataset</th>\n",
       "      <td>275</td>\n",
       "    </tr>\n",
       "    <tr>\n",
       "      <th>regression</th>\n",
       "      <td>289</td>\n",
       "    </tr>\n",
       "    <tr>\n",
       "      <th>lstm</th>\n",
       "      <td>312</td>\n",
       "    </tr>\n",
       "    <tr>\n",
       "      <th>pandas</th>\n",
       "      <td>327</td>\n",
       "    </tr>\n",
       "    <tr>\n",
       "      <th>time-series</th>\n",
       "      <td>361</td>\n",
       "    </tr>\n",
       "    <tr>\n",
       "      <th>cnn</th>\n",
       "      <td>403</td>\n",
       "    </tr>\n",
       "    <tr>\n",
       "      <th>nlp</th>\n",
       "      <td>422</td>\n",
       "    </tr>\n",
       "    <tr>\n",
       "      <th>tensorflow</th>\n",
       "      <td>458</td>\n",
       "    </tr>\n",
       "    <tr>\n",
       "      <th>scikit-learn</th>\n",
       "      <td>465</td>\n",
       "    </tr>\n",
       "    <tr>\n",
       "      <th>classification</th>\n",
       "      <td>600</td>\n",
       "    </tr>\n",
       "    <tr>\n",
       "      <th>keras</th>\n",
       "      <td>773</td>\n",
       "    </tr>\n",
       "    <tr>\n",
       "      <th>neural-network</th>\n",
       "      <td>888</td>\n",
       "    </tr>\n",
       "    <tr>\n",
       "      <th>deep-learning</th>\n",
       "      <td>970</td>\n",
       "    </tr>\n",
       "    <tr>\n",
       "      <th>python</th>\n",
       "      <td>1540</td>\n",
       "    </tr>\n",
       "    <tr>\n",
       "      <th>machine-learning</th>\n",
       "      <td>2269</td>\n",
       "    </tr>\n",
       "  </tbody>\n",
       "</table>\n",
       "</div>"
      ],
      "text/plain": [
       "                        Count\n",
       "machine-learning-model    182\n",
       "statistics                190\n",
       "r                         217\n",
       "predictive-modeling       223\n",
       "clustering                239\n",
       "dataset                   275\n",
       "regression                289\n",
       "lstm                      312\n",
       "pandas                    327\n",
       "time-series               361\n",
       "cnn                       403\n",
       "nlp                       422\n",
       "tensorflow                458\n",
       "scikit-learn              465\n",
       "classification            600\n",
       "keras                     773\n",
       "neural-network            888\n",
       "deep-learning             970\n",
       "python                   1540\n",
       "machine-learning         2269"
      ]
     },
     "execution_count": 9,
     "metadata": {},
     "output_type": "execute_result"
    }
   ],
   "source": [
    "most_used = tag_count.sort_values(by=\"Count\").tail(20)\n",
    "most_used"
   ]
  },
  {
   "cell_type": "markdown",
   "metadata": {},
   "source": [
    "The threshold of 20 is somewhat arbitrary and we can experiment with others, however, popularity of the tags rapidly declines, so looking at these tags should be enough to help us with our goal. Let's visualize these data."
   ]
  },
  {
   "cell_type": "code",
   "execution_count": 10,
   "metadata": {},
   "outputs": [
    {
     "data": {
      "text/plain": [
       "<matplotlib.axes._subplots.AxesSubplot at 0x26ec1952408>"
      ]
     },
     "execution_count": 10,
     "metadata": {},
     "output_type": "execute_result"
    },
    {
     "data": {
      "image/png": "[encoded data removed]",
      "text/plain": [
       "<Figure size 1152x576 with 1 Axes>"
      ]
     },
     "metadata": {
      "needs_background": "light"
     },
     "output_type": "display_data"
    }
   ],
   "source": [
    "most_used.plot(kind=\"barh\", figsize=(16,8))"
   ]
  },
  {
   "cell_type": "markdown",
   "metadata": {},
   "source": [
    "Some tags are very, very broad and are unlikely to be useful; e.g.: python, dataset, r. Before we investigate the tags a little deeper, let's repeat the same process for views.\n",
    "\n",
    "We'll use pandas's pandas.DataFrame.iterrows()."
   ]
  },
  {
   "cell_type": "code",
   "execution_count": 11,
   "metadata": {},
   "outputs": [
    {
     "data": {
      "text/plain": [
       "<matplotlib.axes._subplots.AxesSubplot at 0x26ec1d59288>"
      ]
     },
     "execution_count": 11,
     "metadata": {},
     "output_type": "execute_result"
    },
    {
     "data": {
      "image/png": "[encoded data removed]",
      "text/plain": [
       "<Figure size 1152x576 with 1 Axes>"
      ]
     },
     "metadata": {
      "needs_background": "light"
     },
     "output_type": "display_data"
    }
   ],
   "source": [
    "tag_view_count = dict()\n",
    "\n",
    "for index, row in questions.iterrows():\n",
    "    for tag in row['Tags']:\n",
    "        if tag in tag_view_count:\n",
    "            tag_view_count[tag] += row['ViewCount']\n",
    "        else:\n",
    "            tag_view_count[tag] = row['ViewCount']\n",
    "            \n",
    "tag_view_count = pd.DataFrame.from_dict(tag_view_count, orient=\"index\")\n",
    "tag_view_count.rename(columns={0: \"ViewCount\"}, inplace=True)\n",
    "\n",
    "most_viewed = tag_view_count.sort_values(by=\"ViewCount\").tail(20)\n",
    "\n",
    "most_viewed.plot(kind=\"barh\", figsize=(16,8))"
   ]
  },
  {
   "cell_type": "markdown",
   "metadata": {},
   "source": [
    "Let's see them side by side."
   ]
  },
  {
   "cell_type": "code",
   "execution_count": 12,
   "metadata": {},
   "outputs": [
    {
     "data": {
      "text/plain": [
       "array([<matplotlib.axes._subplots.AxesSubplot object at 0x0000026EC1E46D48>],\n",
       "      dtype=object)"
      ]
     },
     "execution_count": 12,
     "metadata": {},
     "output_type": "execute_result"
    },
    {
     "data": {
      "image/png": "[encoded data removed]",
      "text/plain": [
       "<Figure size 1728x720 with 2 Axes>"
      ]
     },
     "metadata": {
      "needs_background": "light"
     },
     "output_type": "display_data"
    }
   ],
   "source": [
    "fig, axes = plt.subplots(nrows=1, ncols=2)\n",
    "fig.set_size_inches((24, 10))\n",
    "most_used.plot(kind=\"barh\", ax=axes[0], subplots=True)\n",
    "most_viewed.plot(kind=\"barh\", ax=axes[1], subplots=True)"
   ]
  },
  {
   "cell_type": "code",
   "execution_count": 13,
   "metadata": {},
   "outputs": [],
   "source": [
    "in_used = pd.merge(most_used, most_viewed, how=\"left\", left_index=True, right_index=True)\n",
    "in_viewed = pd.merge(most_used, most_viewed, how=\"right\", left_index=True, right_index=True)"
   ]
  },
  {
   "cell_type": "markdown",
   "metadata": {},
   "source": [
    "## Relations Between Tags\n",
    "One way of trying to gauge how pairs of tags are related to each other, is to count how many times each pair appears together. Let's do this.\n",
    "\n",
    "We'll begin by creating a list of all tags."
   ]
  },
  {
   "cell_type": "code",
   "execution_count": 14,
   "metadata": {},
   "outputs": [],
   "source": [
    "all_tags = list(tag_count.index)"
   ]
  },
  {
   "cell_type": "markdown",
   "metadata": {},
   "source": [
    "We'll now create a dataframe where each row will represent a tag, and each column as well. Something like this:"
   ]
  },
  {
   "cell_type": "code",
   "execution_count": 15,
   "metadata": {},
   "outputs": [
    {
     "data": {
      "text/html": [
       "<div>\n",
       "<style scoped>\n",
       "    .dataframe tbody tr th:only-of-type {\n",
       "        vertical-align: middle;\n",
       "    }\n",
       "\n",
       "    .dataframe tbody tr th {\n",
       "        vertical-align: top;\n",
       "    }\n",
       "\n",
       "    .dataframe thead th {\n",
       "        text-align: right;\n",
       "    }\n",
       "</style>\n",
       "<table border=\"1\" class=\"dataframe\">\n",
       "  <thead>\n",
       "    <tr style=\"text-align: right;\">\n",
       "      <th></th>\n",
       "      <th>nlp</th>\n",
       "      <th>lstm</th>\n",
       "      <th>rnn</th>\n",
       "      <th>multiclass-classification</th>\n",
       "    </tr>\n",
       "  </thead>\n",
       "  <tbody>\n",
       "    <tr>\n",
       "      <th>nlp</th>\n",
       "      <td>NaN</td>\n",
       "      <td>NaN</td>\n",
       "      <td>NaN</td>\n",
       "      <td>NaN</td>\n",
       "    </tr>\n",
       "    <tr>\n",
       "      <th>lstm</th>\n",
       "      <td>NaN</td>\n",
       "      <td>NaN</td>\n",
       "      <td>NaN</td>\n",
       "      <td>NaN</td>\n",
       "    </tr>\n",
       "    <tr>\n",
       "      <th>rnn</th>\n",
       "      <td>NaN</td>\n",
       "      <td>NaN</td>\n",
       "      <td>NaN</td>\n",
       "      <td>NaN</td>\n",
       "    </tr>\n",
       "    <tr>\n",
       "      <th>multiclass-classification</th>\n",
       "      <td>NaN</td>\n",
       "      <td>NaN</td>\n",
       "      <td>NaN</td>\n",
       "      <td>NaN</td>\n",
       "    </tr>\n",
       "  </tbody>\n",
       "</table>\n",
       "</div>"
      ],
      "text/plain": [
       "                           nlp lstm  rnn multiclass-classification\n",
       "nlp                        NaN  NaN  NaN                       NaN\n",
       "lstm                       NaN  NaN  NaN                       NaN\n",
       "rnn                        NaN  NaN  NaN                       NaN\n",
       "multiclass-classification  NaN  NaN  NaN                       NaN"
      ]
     },
     "execution_count": 15,
     "metadata": {},
     "output_type": "execute_result"
    }
   ],
   "source": [
    "associations = pd.DataFrame(index=all_tags, columns=all_tags)\n",
    "associations.iloc[0:4,0:4]"
   ]
  },
  {
   "cell_type": "markdown",
   "metadata": {},
   "source": [
    "We will now fill this dataframe with zeroes and then, for each lists of tags in questions[\"Tags\"], we will increment the intervening tags by one. The end result will be a dataframe that for each pair of tags, it tells us how many times they were used together."
   ]
  },
  {
   "cell_type": "code",
   "execution_count": 16,
   "metadata": {},
   "outputs": [],
   "source": [
    "associations.fillna(0, inplace=True)\n",
    "\n",
    "for tags in questions[\"Tags\"]:\n",
    "    associations.loc[tags, tags] += 1"
   ]
  },
  {
   "cell_type": "markdown",
   "metadata": {},
   "source": [
    "This dataframe is quite large. Let's focus our attention on the most used tags. We'll add some colors to make it easier to talk about the dataframe. (At the time of this writing, GitHub's renderer does not display the colors, we suggest you use this solution notebook together with JupyterLab)."
   ]
  },
  {
   "cell_type": "code",
   "execution_count": 17,
   "metadata": {},
   "outputs": [
    {
     "data": {
      "text/html": [
       "<style  type=\"text/css\" >\n",
       "    #T_cd35bbfa_12b2_11eb_a6cd_3c970e7ebeffrow0_col0 {\n",
       "            color:  blue;\n",
       "        }    #T_cd35bbfa_12b2_11eb_a6cd_3c970e7ebeffrow1_col1 {\n",
       "            color:  blue;\n",
       "        }    #T_cd35bbfa_12b2_11eb_a6cd_3c970e7ebeffrow2_col2 {\n",
       "            color:  blue;\n",
       "        }    #T_cd35bbfa_12b2_11eb_a6cd_3c970e7ebeffrow2_col9 {\n",
       "            background-color:  yellow;\n",
       "        }    #T_cd35bbfa_12b2_11eb_a6cd_3c970e7ebeffrow3_col3 {\n",
       "            color:  blue;\n",
       "        }    #T_cd35bbfa_12b2_11eb_a6cd_3c970e7ebeffrow4_col4 {\n",
       "            color:  blue;\n",
       "        }    #T_cd35bbfa_12b2_11eb_a6cd_3c970e7ebeffrow5_col5 {\n",
       "            color:  blue;\n",
       "        }    #T_cd35bbfa_12b2_11eb_a6cd_3c970e7ebeffrow6_col6 {\n",
       "            color:  blue;\n",
       "        }    #T_cd35bbfa_12b2_11eb_a6cd_3c970e7ebeffrow7_col7 {\n",
       "            color:  blue;\n",
       "        }    #T_cd35bbfa_12b2_11eb_a6cd_3c970e7ebeffrow8_col8 {\n",
       "            color:  blue;\n",
       "        }    #T_cd35bbfa_12b2_11eb_a6cd_3c970e7ebeffrow9_col2 {\n",
       "            background-color:  yellow;\n",
       "        }    #T_cd35bbfa_12b2_11eb_a6cd_3c970e7ebeffrow9_col9 {\n",
       "            color:  blue;\n",
       "        }    #T_cd35bbfa_12b2_11eb_a6cd_3c970e7ebeffrow10_col10 {\n",
       "            color:  blue;\n",
       "        }    #T_cd35bbfa_12b2_11eb_a6cd_3c970e7ebeffrow11_col11 {\n",
       "            color:  blue;\n",
       "        }    #T_cd35bbfa_12b2_11eb_a6cd_3c970e7ebeffrow12_col12 {\n",
       "            color:  blue;\n",
       "        }    #T_cd35bbfa_12b2_11eb_a6cd_3c970e7ebeffrow13_col13 {\n",
       "            color:  blue;\n",
       "        }    #T_cd35bbfa_12b2_11eb_a6cd_3c970e7ebeffrow14_col14 {\n",
       "            color:  blue;\n",
       "        }    #T_cd35bbfa_12b2_11eb_a6cd_3c970e7ebeffrow15_col15 {\n",
       "            color:  blue;\n",
       "        }    #T_cd35bbfa_12b2_11eb_a6cd_3c970e7ebeffrow16_col16 {\n",
       "            color:  blue;\n",
       "        }    #T_cd35bbfa_12b2_11eb_a6cd_3c970e7ebeffrow17_col17 {\n",
       "            color:  blue;\n",
       "        }    #T_cd35bbfa_12b2_11eb_a6cd_3c970e7ebeffrow18_col18 {\n",
       "            color:  blue;\n",
       "        }    #T_cd35bbfa_12b2_11eb_a6cd_3c970e7ebeffrow19_col19 {\n",
       "            color:  blue;\n",
       "        }</style><table id=\"T_cd35bbfa_12b2_11eb_a6cd_3c970e7ebeff\" ><thead>    <tr>        <th class=\"blank level0\" ></th>        <th class=\"col_heading level0 col0\" >machine-learning-model</th>        <th class=\"col_heading level0 col1\" >statistics</th>        <th class=\"col_heading level0 col2\" >r</th>        <th class=\"col_heading level0 col3\" >predictive-modeling</th>        <th class=\"col_heading level0 col4\" >clustering</th>        <th class=\"col_heading level0 col5\" >dataset</th>        <th class=\"col_heading level0 col6\" >regression</th>        <th class=\"col_heading level0 col7\" >lstm</th>        <th class=\"col_heading level0 col8\" >pandas</th>        <th class=\"col_heading level0 col9\" >time-series</th>        <th class=\"col_heading level0 col10\" >cnn</th>        <th class=\"col_heading level0 col11\" >nlp</th>        <th class=\"col_heading level0 col12\" >tensorflow</th>        <th class=\"col_heading level0 col13\" >scikit-learn</th>        <th class=\"col_heading level0 col14\" >classification</th>        <th class=\"col_heading level0 col15\" >keras</th>        <th class=\"col_heading level0 col16\" >neural-network</th>        <th class=\"col_heading level0 col17\" >deep-learning</th>        <th class=\"col_heading level0 col18\" >python</th>        <th class=\"col_heading level0 col19\" >machine-learning</th>    </tr></thead><tbody>\n",
       "                <tr>\n",
       "                        <th id=\"T_cd35bbfa_12b2_11eb_a6cd_3c970e7ebefflevel0_row0\" class=\"row_heading level0 row0\" >machine-learning-model</th>\n",
       "                        <td id=\"T_cd35bbfa_12b2_11eb_a6cd_3c970e7ebeffrow0_col0\" class=\"data row0 col0\" >182</td>\n",
       "                        <td id=\"T_cd35bbfa_12b2_11eb_a6cd_3c970e7ebeffrow0_col1\" class=\"data row0 col1\" >3</td>\n",
       "                        <td id=\"T_cd35bbfa_12b2_11eb_a6cd_3c970e7ebeffrow0_col2\" class=\"data row0 col2\" >6</td>\n",
       "                        <td id=\"T_cd35bbfa_12b2_11eb_a6cd_3c970e7ebeffrow0_col3\" class=\"data row0 col3\" >17</td>\n",
       "                        <td id=\"T_cd35bbfa_12b2_11eb_a6cd_3c970e7ebeffrow0_col4\" class=\"data row0 col4\" >3</td>\n",
       "                        <td id=\"T_cd35bbfa_12b2_11eb_a6cd_3c970e7ebeffrow0_col5\" class=\"data row0 col5\" >11</td>\n",
       "                        <td id=\"T_cd35bbfa_12b2_11eb_a6cd_3c970e7ebeffrow0_col6\" class=\"data row0 col6\" >6</td>\n",
       "                        <td id=\"T_cd35bbfa_12b2_11eb_a6cd_3c970e7ebeffrow0_col7\" class=\"data row0 col7\" >3</td>\n",
       "                        <td id=\"T_cd35bbfa_12b2_11eb_a6cd_3c970e7ebeffrow0_col8\" class=\"data row0 col8\" >2</td>\n",
       "                        <td id=\"T_cd35bbfa_12b2_11eb_a6cd_3c970e7ebeffrow0_col9\" class=\"data row0 col9\" >5</td>\n",
       "                        <td id=\"T_cd35bbfa_12b2_11eb_a6cd_3c970e7ebeffrow0_col10\" class=\"data row0 col10\" >3</td>\n",
       "                        <td id=\"T_cd35bbfa_12b2_11eb_a6cd_3c970e7ebeffrow0_col11\" class=\"data row0 col11\" >4</td>\n",
       "                        <td id=\"T_cd35bbfa_12b2_11eb_a6cd_3c970e7ebeffrow0_col12\" class=\"data row0 col12\" >7</td>\n",
       "                        <td id=\"T_cd35bbfa_12b2_11eb_a6cd_3c970e7ebeffrow0_col13\" class=\"data row0 col13\" >15</td>\n",
       "                        <td id=\"T_cd35bbfa_12b2_11eb_a6cd_3c970e7ebeffrow0_col14\" class=\"data row0 col14\" >21</td>\n",
       "                        <td id=\"T_cd35bbfa_12b2_11eb_a6cd_3c970e7ebeffrow0_col15\" class=\"data row0 col15\" >13</td>\n",
       "                        <td id=\"T_cd35bbfa_12b2_11eb_a6cd_3c970e7ebeffrow0_col16\" class=\"data row0 col16\" >8</td>\n",
       "                        <td id=\"T_cd35bbfa_12b2_11eb_a6cd_3c970e7ebeffrow0_col17\" class=\"data row0 col17\" >12</td>\n",
       "                        <td id=\"T_cd35bbfa_12b2_11eb_a6cd_3c970e7ebeffrow0_col18\" class=\"data row0 col18\" >32</td>\n",
       "                        <td id=\"T_cd35bbfa_12b2_11eb_a6cd_3c970e7ebeffrow0_col19\" class=\"data row0 col19\" >112</td>\n",
       "            </tr>\n",
       "            <tr>\n",
       "                        <th id=\"T_cd35bbfa_12b2_11eb_a6cd_3c970e7ebefflevel0_row1\" class=\"row_heading level0 row1\" >statistics</th>\n",
       "                        <td id=\"T_cd35bbfa_12b2_11eb_a6cd_3c970e7ebeffrow1_col0\" class=\"data row1 col0\" >3</td>\n",
       "                        <td id=\"T_cd35bbfa_12b2_11eb_a6cd_3c970e7ebeffrow1_col1\" class=\"data row1 col1\" >190</td>\n",
       "                        <td id=\"T_cd35bbfa_12b2_11eb_a6cd_3c970e7ebeffrow1_col2\" class=\"data row1 col2\" >9</td>\n",
       "                        <td id=\"T_cd35bbfa_12b2_11eb_a6cd_3c970e7ebeffrow1_col3\" class=\"data row1 col3\" >13</td>\n",
       "                        <td id=\"T_cd35bbfa_12b2_11eb_a6cd_3c970e7ebeffrow1_col4\" class=\"data row1 col4\" >3</td>\n",
       "                        <td id=\"T_cd35bbfa_12b2_11eb_a6cd_3c970e7ebeffrow1_col5\" class=\"data row1 col5\" >12</td>\n",
       "                        <td id=\"T_cd35bbfa_12b2_11eb_a6cd_3c970e7ebeffrow1_col6\" class=\"data row1 col6\" >12</td>\n",
       "                        <td id=\"T_cd35bbfa_12b2_11eb_a6cd_3c970e7ebeffrow1_col7\" class=\"data row1 col7\" >1</td>\n",
       "                        <td id=\"T_cd35bbfa_12b2_11eb_a6cd_3c970e7ebeffrow1_col8\" class=\"data row1 col8\" >2</td>\n",
       "                        <td id=\"T_cd35bbfa_12b2_11eb_a6cd_3c970e7ebeffrow1_col9\" class=\"data row1 col9\" >15</td>\n",
       "                        <td id=\"T_cd35bbfa_12b2_11eb_a6cd_3c970e7ebeffrow1_col10\" class=\"data row1 col10\" >1</td>\n",
       "                        <td id=\"T_cd35bbfa_12b2_11eb_a6cd_3c970e7ebeffrow1_col11\" class=\"data row1 col11\" >3</td>\n",
       "                        <td id=\"T_cd35bbfa_12b2_11eb_a6cd_3c970e7ebeffrow1_col12\" class=\"data row1 col12\" >0</td>\n",
       "                        <td id=\"T_cd35bbfa_12b2_11eb_a6cd_3c970e7ebeffrow1_col13\" class=\"data row1 col13\" >4</td>\n",
       "                        <td id=\"T_cd35bbfa_12b2_11eb_a6cd_3c970e7ebeffrow1_col14\" class=\"data row1 col14\" >16</td>\n",
       "                        <td id=\"T_cd35bbfa_12b2_11eb_a6cd_3c970e7ebeffrow1_col15\" class=\"data row1 col15\" >1</td>\n",
       "                        <td id=\"T_cd35bbfa_12b2_11eb_a6cd_3c970e7ebeffrow1_col16\" class=\"data row1 col16\" >8</td>\n",
       "                        <td id=\"T_cd35bbfa_12b2_11eb_a6cd_3c970e7ebeffrow1_col17\" class=\"data row1 col17\" >11</td>\n",
       "                        <td id=\"T_cd35bbfa_12b2_11eb_a6cd_3c970e7ebeffrow1_col18\" class=\"data row1 col18\" >30</td>\n",
       "                        <td id=\"T_cd35bbfa_12b2_11eb_a6cd_3c970e7ebeffrow1_col19\" class=\"data row1 col19\" >79</td>\n",
       "            </tr>\n",
       "            <tr>\n",
       "                        <th id=\"T_cd35bbfa_12b2_11eb_a6cd_3c970e7ebefflevel0_row2\" class=\"row_heading level0 row2\" >r</th>\n",
       "                        <td id=\"T_cd35bbfa_12b2_11eb_a6cd_3c970e7ebeffrow2_col0\" class=\"data row2 col0\" >6</td>\n",
       "                        <td id=\"T_cd35bbfa_12b2_11eb_a6cd_3c970e7ebeffrow2_col1\" class=\"data row2 col1\" >9</td>\n",
       "                        <td id=\"T_cd35bbfa_12b2_11eb_a6cd_3c970e7ebeffrow2_col2\" class=\"data row2 col2\" >217</td>\n",
       "                        <td id=\"T_cd35bbfa_12b2_11eb_a6cd_3c970e7ebeffrow2_col3\" class=\"data row2 col3\" >11</td>\n",
       "                        <td id=\"T_cd35bbfa_12b2_11eb_a6cd_3c970e7ebeffrow2_col4\" class=\"data row2 col4\" >16</td>\n",
       "                        <td id=\"T_cd35bbfa_12b2_11eb_a6cd_3c970e7ebeffrow2_col5\" class=\"data row2 col5\" >5</td>\n",
       "                        <td id=\"T_cd35bbfa_12b2_11eb_a6cd_3c970e7ebeffrow2_col6\" class=\"data row2 col6\" >8</td>\n",
       "                        <td id=\"T_cd35bbfa_12b2_11eb_a6cd_3c970e7ebeffrow2_col7\" class=\"data row2 col7\" >3</td>\n",
       "                        <td id=\"T_cd35bbfa_12b2_11eb_a6cd_3c970e7ebeffrow2_col8\" class=\"data row2 col8\" >1</td>\n",
       "                        <td id=\"T_cd35bbfa_12b2_11eb_a6cd_3c970e7ebeffrow2_col9\" class=\"data row2 col9\" >18</td>\n",
       "                        <td id=\"T_cd35bbfa_12b2_11eb_a6cd_3c970e7ebeffrow2_col10\" class=\"data row2 col10\" >2</td>\n",
       "                        <td id=\"T_cd35bbfa_12b2_11eb_a6cd_3c970e7ebeffrow2_col11\" class=\"data row2 col11\" >3</td>\n",
       "                        <td id=\"T_cd35bbfa_12b2_11eb_a6cd_3c970e7ebeffrow2_col12\" class=\"data row2 col12\" >1</td>\n",
       "                        <td id=\"T_cd35bbfa_12b2_11eb_a6cd_3c970e7ebeffrow2_col13\" class=\"data row2 col13\" >1</td>\n",
       "                        <td id=\"T_cd35bbfa_12b2_11eb_a6cd_3c970e7ebeffrow2_col14\" class=\"data row2 col14\" >8</td>\n",
       "                        <td id=\"T_cd35bbfa_12b2_11eb_a6cd_3c970e7ebeffrow2_col15\" class=\"data row2 col15\" >9</td>\n",
       "                        <td id=\"T_cd35bbfa_12b2_11eb_a6cd_3c970e7ebeffrow2_col16\" class=\"data row2 col16\" >6</td>\n",
       "                        <td id=\"T_cd35bbfa_12b2_11eb_a6cd_3c970e7ebeffrow2_col17\" class=\"data row2 col17\" >4</td>\n",
       "                        <td id=\"T_cd35bbfa_12b2_11eb_a6cd_3c970e7ebeffrow2_col18\" class=\"data row2 col18\" >20</td>\n",
       "                        <td id=\"T_cd35bbfa_12b2_11eb_a6cd_3c970e7ebeffrow2_col19\" class=\"data row2 col19\" >51</td>\n",
       "            </tr>\n",
       "            <tr>\n",
       "                        <th id=\"T_cd35bbfa_12b2_11eb_a6cd_3c970e7ebefflevel0_row3\" class=\"row_heading level0 row3\" >predictive-modeling</th>\n",
       "                        <td id=\"T_cd35bbfa_12b2_11eb_a6cd_3c970e7ebeffrow3_col0\" class=\"data row3 col0\" >17</td>\n",
       "                        <td id=\"T_cd35bbfa_12b2_11eb_a6cd_3c970e7ebeffrow3_col1\" class=\"data row3 col1\" >13</td>\n",
       "                        <td id=\"T_cd35bbfa_12b2_11eb_a6cd_3c970e7ebeffrow3_col2\" class=\"data row3 col2\" >11</td>\n",
       "                        <td id=\"T_cd35bbfa_12b2_11eb_a6cd_3c970e7ebeffrow3_col3\" class=\"data row3 col3\" >223</td>\n",
       "                        <td id=\"T_cd35bbfa_12b2_11eb_a6cd_3c970e7ebeffrow3_col4\" class=\"data row3 col4\" >0</td>\n",
       "                        <td id=\"T_cd35bbfa_12b2_11eb_a6cd_3c970e7ebeffrow3_col5\" class=\"data row3 col5\" >5</td>\n",
       "                        <td id=\"T_cd35bbfa_12b2_11eb_a6cd_3c970e7ebeffrow3_col6\" class=\"data row3 col6\" >24</td>\n",
       "                        <td id=\"T_cd35bbfa_12b2_11eb_a6cd_3c970e7ebeffrow3_col7\" class=\"data row3 col7\" >9</td>\n",
       "                        <td id=\"T_cd35bbfa_12b2_11eb_a6cd_3c970e7ebeffrow3_col8\" class=\"data row3 col8\" >4</td>\n",
       "                        <td id=\"T_cd35bbfa_12b2_11eb_a6cd_3c970e7ebeffrow3_col9\" class=\"data row3 col9\" >26</td>\n",
       "                        <td id=\"T_cd35bbfa_12b2_11eb_a6cd_3c970e7ebeffrow3_col10\" class=\"data row3 col10\" >5</td>\n",
       "                        <td id=\"T_cd35bbfa_12b2_11eb_a6cd_3c970e7ebeffrow3_col11\" class=\"data row3 col11\" >0</td>\n",
       "                        <td id=\"T_cd35bbfa_12b2_11eb_a6cd_3c970e7ebeffrow3_col12\" class=\"data row3 col12\" >4</td>\n",
       "                        <td id=\"T_cd35bbfa_12b2_11eb_a6cd_3c970e7ebeffrow3_col13\" class=\"data row3 col13\" >12</td>\n",
       "                        <td id=\"T_cd35bbfa_12b2_11eb_a6cd_3c970e7ebeffrow3_col14\" class=\"data row3 col14\" >24</td>\n",
       "                        <td id=\"T_cd35bbfa_12b2_11eb_a6cd_3c970e7ebeffrow3_col15\" class=\"data row3 col15\" >11</td>\n",
       "                        <td id=\"T_cd35bbfa_12b2_11eb_a6cd_3c970e7ebeffrow3_col16\" class=\"data row3 col16\" >9</td>\n",
       "                        <td id=\"T_cd35bbfa_12b2_11eb_a6cd_3c970e7ebeffrow3_col17\" class=\"data row3 col17\" >25</td>\n",
       "                        <td id=\"T_cd35bbfa_12b2_11eb_a6cd_3c970e7ebeffrow3_col18\" class=\"data row3 col18\" >30</td>\n",
       "                        <td id=\"T_cd35bbfa_12b2_11eb_a6cd_3c970e7ebeffrow3_col19\" class=\"data row3 col19\" >103</td>\n",
       "            </tr>\n",
       "            <tr>\n",
       "                        <th id=\"T_cd35bbfa_12b2_11eb_a6cd_3c970e7ebefflevel0_row4\" class=\"row_heading level0 row4\" >clustering</th>\n",
       "                        <td id=\"T_cd35bbfa_12b2_11eb_a6cd_3c970e7ebeffrow4_col0\" class=\"data row4 col0\" >3</td>\n",
       "                        <td id=\"T_cd35bbfa_12b2_11eb_a6cd_3c970e7ebeffrow4_col1\" class=\"data row4 col1\" >3</td>\n",
       "                        <td id=\"T_cd35bbfa_12b2_11eb_a6cd_3c970e7ebeffrow4_col2\" class=\"data row4 col2\" >16</td>\n",
       "                        <td id=\"T_cd35bbfa_12b2_11eb_a6cd_3c970e7ebeffrow4_col3\" class=\"data row4 col3\" >0</td>\n",
       "                        <td id=\"T_cd35bbfa_12b2_11eb_a6cd_3c970e7ebeffrow4_col4\" class=\"data row4 col4\" >239</td>\n",
       "                        <td id=\"T_cd35bbfa_12b2_11eb_a6cd_3c970e7ebeffrow4_col5\" class=\"data row4 col5\" >5</td>\n",
       "                        <td id=\"T_cd35bbfa_12b2_11eb_a6cd_3c970e7ebeffrow4_col6\" class=\"data row4 col6\" >1</td>\n",
       "                        <td id=\"T_cd35bbfa_12b2_11eb_a6cd_3c970e7ebeffrow4_col7\" class=\"data row4 col7\" >3</td>\n",
       "                        <td id=\"T_cd35bbfa_12b2_11eb_a6cd_3c970e7ebeffrow4_col8\" class=\"data row4 col8\" >5</td>\n",
       "                        <td id=\"T_cd35bbfa_12b2_11eb_a6cd_3c970e7ebeffrow4_col9\" class=\"data row4 col9\" >19</td>\n",
       "                        <td id=\"T_cd35bbfa_12b2_11eb_a6cd_3c970e7ebeffrow4_col10\" class=\"data row4 col10\" >0</td>\n",
       "                        <td id=\"T_cd35bbfa_12b2_11eb_a6cd_3c970e7ebeffrow4_col11\" class=\"data row4 col11\" >9</td>\n",
       "                        <td id=\"T_cd35bbfa_12b2_11eb_a6cd_3c970e7ebeffrow4_col12\" class=\"data row4 col12\" >0</td>\n",
       "                        <td id=\"T_cd35bbfa_12b2_11eb_a6cd_3c970e7ebeffrow4_col13\" class=\"data row4 col13\" >22</td>\n",
       "                        <td id=\"T_cd35bbfa_12b2_11eb_a6cd_3c970e7ebeffrow4_col14\" class=\"data row4 col14\" >11</td>\n",
       "                        <td id=\"T_cd35bbfa_12b2_11eb_a6cd_3c970e7ebeffrow4_col15\" class=\"data row4 col15\" >0</td>\n",
       "                        <td id=\"T_cd35bbfa_12b2_11eb_a6cd_3c970e7ebeffrow4_col16\" class=\"data row4 col16\" >5</td>\n",
       "                        <td id=\"T_cd35bbfa_12b2_11eb_a6cd_3c970e7ebeffrow4_col17\" class=\"data row4 col17\" >2</td>\n",
       "                        <td id=\"T_cd35bbfa_12b2_11eb_a6cd_3c970e7ebeffrow4_col18\" class=\"data row4 col18\" >42</td>\n",
       "                        <td id=\"T_cd35bbfa_12b2_11eb_a6cd_3c970e7ebeffrow4_col19\" class=\"data row4 col19\" >55</td>\n",
       "            </tr>\n",
       "            <tr>\n",
       "                        <th id=\"T_cd35bbfa_12b2_11eb_a6cd_3c970e7ebefflevel0_row5\" class=\"row_heading level0 row5\" >dataset</th>\n",
       "                        <td id=\"T_cd35bbfa_12b2_11eb_a6cd_3c970e7ebeffrow5_col0\" class=\"data row5 col0\" >11</td>\n",
       "                        <td id=\"T_cd35bbfa_12b2_11eb_a6cd_3c970e7ebeffrow5_col1\" class=\"data row5 col1\" >12</td>\n",
       "                        <td id=\"T_cd35bbfa_12b2_11eb_a6cd_3c970e7ebeffrow5_col2\" class=\"data row5 col2\" >5</td>\n",
       "                        <td id=\"T_cd35bbfa_12b2_11eb_a6cd_3c970e7ebeffrow5_col3\" class=\"data row5 col3\" >5</td>\n",
       "                        <td id=\"T_cd35bbfa_12b2_11eb_a6cd_3c970e7ebeffrow5_col4\" class=\"data row5 col4\" >5</td>\n",
       "                        <td id=\"T_cd35bbfa_12b2_11eb_a6cd_3c970e7ebeffrow5_col5\" class=\"data row5 col5\" >275</td>\n",
       "                        <td id=\"T_cd35bbfa_12b2_11eb_a6cd_3c970e7ebeffrow5_col6\" class=\"data row5 col6\" >5</td>\n",
       "                        <td id=\"T_cd35bbfa_12b2_11eb_a6cd_3c970e7ebeffrow5_col7\" class=\"data row5 col7\" >5</td>\n",
       "                        <td id=\"T_cd35bbfa_12b2_11eb_a6cd_3c970e7ebeffrow5_col8\" class=\"data row5 col8\" >10</td>\n",
       "                        <td id=\"T_cd35bbfa_12b2_11eb_a6cd_3c970e7ebeffrow5_col9\" class=\"data row5 col9\" >3</td>\n",
       "                        <td id=\"T_cd35bbfa_12b2_11eb_a6cd_3c970e7ebeffrow5_col10\" class=\"data row5 col10\" >8</td>\n",
       "                        <td id=\"T_cd35bbfa_12b2_11eb_a6cd_3c970e7ebeffrow5_col11\" class=\"data row5 col11\" >10</td>\n",
       "                        <td id=\"T_cd35bbfa_12b2_11eb_a6cd_3c970e7ebeffrow5_col12\" class=\"data row5 col12\" >8</td>\n",
       "                        <td id=\"T_cd35bbfa_12b2_11eb_a6cd_3c970e7ebeffrow5_col13\" class=\"data row5 col13\" >6</td>\n",
       "                        <td id=\"T_cd35bbfa_12b2_11eb_a6cd_3c970e7ebeffrow5_col14\" class=\"data row5 col14\" >22</td>\n",
       "                        <td id=\"T_cd35bbfa_12b2_11eb_a6cd_3c970e7ebeffrow5_col15\" class=\"data row5 col15\" >9</td>\n",
       "                        <td id=\"T_cd35bbfa_12b2_11eb_a6cd_3c970e7ebeffrow5_col16\" class=\"data row5 col16\" >17</td>\n",
       "                        <td id=\"T_cd35bbfa_12b2_11eb_a6cd_3c970e7ebeffrow5_col17\" class=\"data row5 col17\" >22</td>\n",
       "                        <td id=\"T_cd35bbfa_12b2_11eb_a6cd_3c970e7ebeffrow5_col18\" class=\"data row5 col18\" >46</td>\n",
       "                        <td id=\"T_cd35bbfa_12b2_11eb_a6cd_3c970e7ebeffrow5_col19\" class=\"data row5 col19\" >83</td>\n",
       "            </tr>\n",
       "            <tr>\n",
       "                        <th id=\"T_cd35bbfa_12b2_11eb_a6cd_3c970e7ebefflevel0_row6\" class=\"row_heading level0 row6\" >regression</th>\n",
       "                        <td id=\"T_cd35bbfa_12b2_11eb_a6cd_3c970e7ebeffrow6_col0\" class=\"data row6 col0\" >6</td>\n",
       "                        <td id=\"T_cd35bbfa_12b2_11eb_a6cd_3c970e7ebeffrow6_col1\" class=\"data row6 col1\" >12</td>\n",
       "                        <td id=\"T_cd35bbfa_12b2_11eb_a6cd_3c970e7ebeffrow6_col2\" class=\"data row6 col2\" >8</td>\n",
       "                        <td id=\"T_cd35bbfa_12b2_11eb_a6cd_3c970e7ebeffrow6_col3\" class=\"data row6 col3\" >24</td>\n",
       "                        <td id=\"T_cd35bbfa_12b2_11eb_a6cd_3c970e7ebeffrow6_col4\" class=\"data row6 col4\" >1</td>\n",
       "                        <td id=\"T_cd35bbfa_12b2_11eb_a6cd_3c970e7ebeffrow6_col5\" class=\"data row6 col5\" >5</td>\n",
       "                        <td id=\"T_cd35bbfa_12b2_11eb_a6cd_3c970e7ebeffrow6_col6\" class=\"data row6 col6\" >289</td>\n",
       "                        <td id=\"T_cd35bbfa_12b2_11eb_a6cd_3c970e7ebeffrow6_col7\" class=\"data row6 col7\" >10</td>\n",
       "                        <td id=\"T_cd35bbfa_12b2_11eb_a6cd_3c970e7ebeffrow6_col8\" class=\"data row6 col8\" >6</td>\n",
       "                        <td id=\"T_cd35bbfa_12b2_11eb_a6cd_3c970e7ebeffrow6_col9\" class=\"data row6 col9\" >20</td>\n",
       "                        <td id=\"T_cd35bbfa_12b2_11eb_a6cd_3c970e7ebeffrow6_col10\" class=\"data row6 col10\" >4</td>\n",
       "                        <td id=\"T_cd35bbfa_12b2_11eb_a6cd_3c970e7ebeffrow6_col11\" class=\"data row6 col11\" >2</td>\n",
       "                        <td id=\"T_cd35bbfa_12b2_11eb_a6cd_3c970e7ebeffrow6_col12\" class=\"data row6 col12\" >6</td>\n",
       "                        <td id=\"T_cd35bbfa_12b2_11eb_a6cd_3c970e7ebeffrow6_col13\" class=\"data row6 col13\" >34</td>\n",
       "                        <td id=\"T_cd35bbfa_12b2_11eb_a6cd_3c970e7ebeffrow6_col14\" class=\"data row6 col14\" >29</td>\n",
       "                        <td id=\"T_cd35bbfa_12b2_11eb_a6cd_3c970e7ebeffrow6_col15\" class=\"data row6 col15\" >27</td>\n",
       "                        <td id=\"T_cd35bbfa_12b2_11eb_a6cd_3c970e7ebeffrow6_col16\" class=\"data row6 col16\" >40</td>\n",
       "                        <td id=\"T_cd35bbfa_12b2_11eb_a6cd_3c970e7ebeffrow6_col17\" class=\"data row6 col17\" >18</td>\n",
       "                        <td id=\"T_cd35bbfa_12b2_11eb_a6cd_3c970e7ebeffrow6_col18\" class=\"data row6 col18\" >52</td>\n",
       "                        <td id=\"T_cd35bbfa_12b2_11eb_a6cd_3c970e7ebeffrow6_col19\" class=\"data row6 col19\" >105</td>\n",
       "            </tr>\n",
       "            <tr>\n",
       "                        <th id=\"T_cd35bbfa_12b2_11eb_a6cd_3c970e7ebefflevel0_row7\" class=\"row_heading level0 row7\" >lstm</th>\n",
       "                        <td id=\"T_cd35bbfa_12b2_11eb_a6cd_3c970e7ebeffrow7_col0\" class=\"data row7 col0\" >3</td>\n",
       "                        <td id=\"T_cd35bbfa_12b2_11eb_a6cd_3c970e7ebeffrow7_col1\" class=\"data row7 col1\" >1</td>\n",
       "                        <td id=\"T_cd35bbfa_12b2_11eb_a6cd_3c970e7ebeffrow7_col2\" class=\"data row7 col2\" >3</td>\n",
       "                        <td id=\"T_cd35bbfa_12b2_11eb_a6cd_3c970e7ebeffrow7_col3\" class=\"data row7 col3\" >9</td>\n",
       "                        <td id=\"T_cd35bbfa_12b2_11eb_a6cd_3c970e7ebeffrow7_col4\" class=\"data row7 col4\" >3</td>\n",
       "                        <td id=\"T_cd35bbfa_12b2_11eb_a6cd_3c970e7ebeffrow7_col5\" class=\"data row7 col5\" >5</td>\n",
       "                        <td id=\"T_cd35bbfa_12b2_11eb_a6cd_3c970e7ebeffrow7_col6\" class=\"data row7 col6\" >10</td>\n",
       "                        <td id=\"T_cd35bbfa_12b2_11eb_a6cd_3c970e7ebeffrow7_col7\" class=\"data row7 col7\" >312</td>\n",
       "                        <td id=\"T_cd35bbfa_12b2_11eb_a6cd_3c970e7ebeffrow7_col8\" class=\"data row7 col8\" >6</td>\n",
       "                        <td id=\"T_cd35bbfa_12b2_11eb_a6cd_3c970e7ebeffrow7_col9\" class=\"data row7 col9\" >62</td>\n",
       "                        <td id=\"T_cd35bbfa_12b2_11eb_a6cd_3c970e7ebeffrow7_col10\" class=\"data row7 col10\" >19</td>\n",
       "                        <td id=\"T_cd35bbfa_12b2_11eb_a6cd_3c970e7ebeffrow7_col11\" class=\"data row7 col11\" >16</td>\n",
       "                        <td id=\"T_cd35bbfa_12b2_11eb_a6cd_3c970e7ebeffrow7_col12\" class=\"data row7 col12\" >28</td>\n",
       "                        <td id=\"T_cd35bbfa_12b2_11eb_a6cd_3c970e7ebeffrow7_col13\" class=\"data row7 col13\" >1</td>\n",
       "                        <td id=\"T_cd35bbfa_12b2_11eb_a6cd_3c970e7ebeffrow7_col14\" class=\"data row7 col14\" >13</td>\n",
       "                        <td id=\"T_cd35bbfa_12b2_11eb_a6cd_3c970e7ebeffrow7_col15\" class=\"data row7 col15\" >106</td>\n",
       "                        <td id=\"T_cd35bbfa_12b2_11eb_a6cd_3c970e7ebeffrow7_col16\" class=\"data row7 col16\" >55</td>\n",
       "                        <td id=\"T_cd35bbfa_12b2_11eb_a6cd_3c970e7ebeffrow7_col17\" class=\"data row7 col17\" >76</td>\n",
       "                        <td id=\"T_cd35bbfa_12b2_11eb_a6cd_3c970e7ebeffrow7_col18\" class=\"data row7 col18\" >46</td>\n",
       "                        <td id=\"T_cd35bbfa_12b2_11eb_a6cd_3c970e7ebeffrow7_col19\" class=\"data row7 col19\" >50</td>\n",
       "            </tr>\n",
       "            <tr>\n",
       "                        <th id=\"T_cd35bbfa_12b2_11eb_a6cd_3c970e7ebefflevel0_row8\" class=\"row_heading level0 row8\" >pandas</th>\n",
       "                        <td id=\"T_cd35bbfa_12b2_11eb_a6cd_3c970e7ebeffrow8_col0\" class=\"data row8 col0\" >2</td>\n",
       "                        <td id=\"T_cd35bbfa_12b2_11eb_a6cd_3c970e7ebeffrow8_col1\" class=\"data row8 col1\" >2</td>\n",
       "                        <td id=\"T_cd35bbfa_12b2_11eb_a6cd_3c970e7ebeffrow8_col2\" class=\"data row8 col2\" >1</td>\n",
       "                        <td id=\"T_cd35bbfa_12b2_11eb_a6cd_3c970e7ebeffrow8_col3\" class=\"data row8 col3\" >4</td>\n",
       "                        <td id=\"T_cd35bbfa_12b2_11eb_a6cd_3c970e7ebeffrow8_col4\" class=\"data row8 col4\" >5</td>\n",
       "                        <td id=\"T_cd35bbfa_12b2_11eb_a6cd_3c970e7ebeffrow8_col5\" class=\"data row8 col5\" >10</td>\n",
       "                        <td id=\"T_cd35bbfa_12b2_11eb_a6cd_3c970e7ebeffrow8_col6\" class=\"data row8 col6\" >6</td>\n",
       "                        <td id=\"T_cd35bbfa_12b2_11eb_a6cd_3c970e7ebeffrow8_col7\" class=\"data row8 col7\" >6</td>\n",
       "                        <td id=\"T_cd35bbfa_12b2_11eb_a6cd_3c970e7ebeffrow8_col8\" class=\"data row8 col8\" >327</td>\n",
       "                        <td id=\"T_cd35bbfa_12b2_11eb_a6cd_3c970e7ebeffrow8_col9\" class=\"data row8 col9\" >17</td>\n",
       "                        <td id=\"T_cd35bbfa_12b2_11eb_a6cd_3c970e7ebeffrow8_col10\" class=\"data row8 col10\" >1</td>\n",
       "                        <td id=\"T_cd35bbfa_12b2_11eb_a6cd_3c970e7ebeffrow8_col11\" class=\"data row8 col11\" >3</td>\n",
       "                        <td id=\"T_cd35bbfa_12b2_11eb_a6cd_3c970e7ebeffrow8_col12\" class=\"data row8 col12\" >3</td>\n",
       "                        <td id=\"T_cd35bbfa_12b2_11eb_a6cd_3c970e7ebeffrow8_col13\" class=\"data row8 col13\" >32</td>\n",
       "                        <td id=\"T_cd35bbfa_12b2_11eb_a6cd_3c970e7ebeffrow8_col14\" class=\"data row8 col14\" >3</td>\n",
       "                        <td id=\"T_cd35bbfa_12b2_11eb_a6cd_3c970e7ebeffrow8_col15\" class=\"data row8 col15\" >3</td>\n",
       "                        <td id=\"T_cd35bbfa_12b2_11eb_a6cd_3c970e7ebeffrow8_col16\" class=\"data row8 col16\" >1</td>\n",
       "                        <td id=\"T_cd35bbfa_12b2_11eb_a6cd_3c970e7ebeffrow8_col17\" class=\"data row8 col17\" >1</td>\n",
       "                        <td id=\"T_cd35bbfa_12b2_11eb_a6cd_3c970e7ebeffrow8_col18\" class=\"data row8 col18\" >227</td>\n",
       "                        <td id=\"T_cd35bbfa_12b2_11eb_a6cd_3c970e7ebeffrow8_col19\" class=\"data row8 col19\" >57</td>\n",
       "            </tr>\n",
       "            <tr>\n",
       "                        <th id=\"T_cd35bbfa_12b2_11eb_a6cd_3c970e7ebefflevel0_row9\" class=\"row_heading level0 row9\" >time-series</th>\n",
       "                        <td id=\"T_cd35bbfa_12b2_11eb_a6cd_3c970e7ebeffrow9_col0\" class=\"data row9 col0\" >5</td>\n",
       "                        <td id=\"T_cd35bbfa_12b2_11eb_a6cd_3c970e7ebeffrow9_col1\" class=\"data row9 col1\" >15</td>\n",
       "                        <td id=\"T_cd35bbfa_12b2_11eb_a6cd_3c970e7ebeffrow9_col2\" class=\"data row9 col2\" >18</td>\n",
       "                        <td id=\"T_cd35bbfa_12b2_11eb_a6cd_3c970e7ebeffrow9_col3\" class=\"data row9 col3\" >26</td>\n",
       "                        <td id=\"T_cd35bbfa_12b2_11eb_a6cd_3c970e7ebeffrow9_col4\" class=\"data row9 col4\" >19</td>\n",
       "                        <td id=\"T_cd35bbfa_12b2_11eb_a6cd_3c970e7ebeffrow9_col5\" class=\"data row9 col5\" >3</td>\n",
       "                        <td id=\"T_cd35bbfa_12b2_11eb_a6cd_3c970e7ebeffrow9_col6\" class=\"data row9 col6\" >20</td>\n",
       "                        <td id=\"T_cd35bbfa_12b2_11eb_a6cd_3c970e7ebeffrow9_col7\" class=\"data row9 col7\" >62</td>\n",
       "                        <td id=\"T_cd35bbfa_12b2_11eb_a6cd_3c970e7ebeffrow9_col8\" class=\"data row9 col8\" >17</td>\n",
       "                        <td id=\"T_cd35bbfa_12b2_11eb_a6cd_3c970e7ebeffrow9_col9\" class=\"data row9 col9\" >361</td>\n",
       "                        <td id=\"T_cd35bbfa_12b2_11eb_a6cd_3c970e7ebeffrow9_col10\" class=\"data row9 col10\" >7</td>\n",
       "                        <td id=\"T_cd35bbfa_12b2_11eb_a6cd_3c970e7ebeffrow9_col11\" class=\"data row9 col11\" >0</td>\n",
       "                        <td id=\"T_cd35bbfa_12b2_11eb_a6cd_3c970e7ebeffrow9_col12\" class=\"data row9 col12\" >7</td>\n",
       "                        <td id=\"T_cd35bbfa_12b2_11eb_a6cd_3c970e7ebeffrow9_col13\" class=\"data row9 col13\" >9</td>\n",
       "                        <td id=\"T_cd35bbfa_12b2_11eb_a6cd_3c970e7ebeffrow9_col14\" class=\"data row9 col14\" >19</td>\n",
       "                        <td id=\"T_cd35bbfa_12b2_11eb_a6cd_3c970e7ebeffrow9_col15\" class=\"data row9 col15\" >38</td>\n",
       "                        <td id=\"T_cd35bbfa_12b2_11eb_a6cd_3c970e7ebeffrow9_col16\" class=\"data row9 col16\" >28</td>\n",
       "                        <td id=\"T_cd35bbfa_12b2_11eb_a6cd_3c970e7ebeffrow9_col17\" class=\"data row9 col17\" >31</td>\n",
       "                        <td id=\"T_cd35bbfa_12b2_11eb_a6cd_3c970e7ebeffrow9_col18\" class=\"data row9 col18\" >80</td>\n",
       "                        <td id=\"T_cd35bbfa_12b2_11eb_a6cd_3c970e7ebeffrow9_col19\" class=\"data row9 col19\" >112</td>\n",
       "            </tr>\n",
       "            <tr>\n",
       "                        <th id=\"T_cd35bbfa_12b2_11eb_a6cd_3c970e7ebefflevel0_row10\" class=\"row_heading level0 row10\" >cnn</th>\n",
       "                        <td id=\"T_cd35bbfa_12b2_11eb_a6cd_3c970e7ebeffrow10_col0\" class=\"data row10 col0\" >3</td>\n",
       "                        <td id=\"T_cd35bbfa_12b2_11eb_a6cd_3c970e7ebeffrow10_col1\" class=\"data row10 col1\" >1</td>\n",
       "                        <td id=\"T_cd35bbfa_12b2_11eb_a6cd_3c970e7ebeffrow10_col2\" class=\"data row10 col2\" >2</td>\n",
       "                        <td id=\"T_cd35bbfa_12b2_11eb_a6cd_3c970e7ebeffrow10_col3\" class=\"data row10 col3\" >5</td>\n",
       "                        <td id=\"T_cd35bbfa_12b2_11eb_a6cd_3c970e7ebeffrow10_col4\" class=\"data row10 col4\" >0</td>\n",
       "                        <td id=\"T_cd35bbfa_12b2_11eb_a6cd_3c970e7ebeffrow10_col5\" class=\"data row10 col5\" >8</td>\n",
       "                        <td id=\"T_cd35bbfa_12b2_11eb_a6cd_3c970e7ebeffrow10_col6\" class=\"data row10 col6\" >4</td>\n",
       "                        <td id=\"T_cd35bbfa_12b2_11eb_a6cd_3c970e7ebeffrow10_col7\" class=\"data row10 col7\" >19</td>\n",
       "                        <td id=\"T_cd35bbfa_12b2_11eb_a6cd_3c970e7ebeffrow10_col8\" class=\"data row10 col8\" >1</td>\n",
       "                        <td id=\"T_cd35bbfa_12b2_11eb_a6cd_3c970e7ebeffrow10_col9\" class=\"data row10 col9\" >7</td>\n",
       "                        <td id=\"T_cd35bbfa_12b2_11eb_a6cd_3c970e7ebeffrow10_col10\" class=\"data row10 col10\" >403</td>\n",
       "                        <td id=\"T_cd35bbfa_12b2_11eb_a6cd_3c970e7ebeffrow10_col11\" class=\"data row10 col11\" >7</td>\n",
       "                        <td id=\"T_cd35bbfa_12b2_11eb_a6cd_3c970e7ebeffrow10_col12\" class=\"data row10 col12\" >44</td>\n",
       "                        <td id=\"T_cd35bbfa_12b2_11eb_a6cd_3c970e7ebeffrow10_col13\" class=\"data row10 col13\" >0</td>\n",
       "                        <td id=\"T_cd35bbfa_12b2_11eb_a6cd_3c970e7ebeffrow10_col14\" class=\"data row10 col14\" >15</td>\n",
       "                        <td id=\"T_cd35bbfa_12b2_11eb_a6cd_3c970e7ebeffrow10_col15\" class=\"data row10 col15\" >98</td>\n",
       "                        <td id=\"T_cd35bbfa_12b2_11eb_a6cd_3c970e7ebeffrow10_col16\" class=\"data row10 col16\" >100</td>\n",
       "                        <td id=\"T_cd35bbfa_12b2_11eb_a6cd_3c970e7ebeffrow10_col17\" class=\"data row10 col17\" >131</td>\n",
       "                        <td id=\"T_cd35bbfa_12b2_11eb_a6cd_3c970e7ebeffrow10_col18\" class=\"data row10 col18\" >49</td>\n",
       "                        <td id=\"T_cd35bbfa_12b2_11eb_a6cd_3c970e7ebeffrow10_col19\" class=\"data row10 col19\" >101</td>\n",
       "            </tr>\n",
       "            <tr>\n",
       "                        <th id=\"T_cd35bbfa_12b2_11eb_a6cd_3c970e7ebefflevel0_row11\" class=\"row_heading level0 row11\" >nlp</th>\n",
       "                        <td id=\"T_cd35bbfa_12b2_11eb_a6cd_3c970e7ebeffrow11_col0\" class=\"data row11 col0\" >4</td>\n",
       "                        <td id=\"T_cd35bbfa_12b2_11eb_a6cd_3c970e7ebeffrow11_col1\" class=\"data row11 col1\" >3</td>\n",
       "                        <td id=\"T_cd35bbfa_12b2_11eb_a6cd_3c970e7ebeffrow11_col2\" class=\"data row11 col2\" >3</td>\n",
       "                        <td id=\"T_cd35bbfa_12b2_11eb_a6cd_3c970e7ebeffrow11_col3\" class=\"data row11 col3\" >0</td>\n",
       "                        <td id=\"T_cd35bbfa_12b2_11eb_a6cd_3c970e7ebeffrow11_col4\" class=\"data row11 col4\" >9</td>\n",
       "                        <td id=\"T_cd35bbfa_12b2_11eb_a6cd_3c970e7ebeffrow11_col5\" class=\"data row11 col5\" >10</td>\n",
       "                        <td id=\"T_cd35bbfa_12b2_11eb_a6cd_3c970e7ebeffrow11_col6\" class=\"data row11 col6\" >2</td>\n",
       "                        <td id=\"T_cd35bbfa_12b2_11eb_a6cd_3c970e7ebeffrow11_col7\" class=\"data row11 col7\" >16</td>\n",
       "                        <td id=\"T_cd35bbfa_12b2_11eb_a6cd_3c970e7ebeffrow11_col8\" class=\"data row11 col8\" >3</td>\n",
       "                        <td id=\"T_cd35bbfa_12b2_11eb_a6cd_3c970e7ebeffrow11_col9\" class=\"data row11 col9\" >0</td>\n",
       "                        <td id=\"T_cd35bbfa_12b2_11eb_a6cd_3c970e7ebeffrow11_col10\" class=\"data row11 col10\" >7</td>\n",
       "                        <td id=\"T_cd35bbfa_12b2_11eb_a6cd_3c970e7ebeffrow11_col11\" class=\"data row11 col11\" >422</td>\n",
       "                        <td id=\"T_cd35bbfa_12b2_11eb_a6cd_3c970e7ebeffrow11_col12\" class=\"data row11 col12\" >9</td>\n",
       "                        <td id=\"T_cd35bbfa_12b2_11eb_a6cd_3c970e7ebeffrow11_col13\" class=\"data row11 col13\" >12</td>\n",
       "                        <td id=\"T_cd35bbfa_12b2_11eb_a6cd_3c970e7ebeffrow11_col14\" class=\"data row11 col14\" >32</td>\n",
       "                        <td id=\"T_cd35bbfa_12b2_11eb_a6cd_3c970e7ebeffrow11_col15\" class=\"data row11 col15\" >20</td>\n",
       "                        <td id=\"T_cd35bbfa_12b2_11eb_a6cd_3c970e7ebeffrow11_col16\" class=\"data row11 col16\" >22</td>\n",
       "                        <td id=\"T_cd35bbfa_12b2_11eb_a6cd_3c970e7ebeffrow11_col17\" class=\"data row11 col17\" >59</td>\n",
       "                        <td id=\"T_cd35bbfa_12b2_11eb_a6cd_3c970e7ebeffrow11_col18\" class=\"data row11 col18\" >66</td>\n",
       "                        <td id=\"T_cd35bbfa_12b2_11eb_a6cd_3c970e7ebeffrow11_col19\" class=\"data row11 col19\" >98</td>\n",
       "            </tr>\n",
       "            <tr>\n",
       "                        <th id=\"T_cd35bbfa_12b2_11eb_a6cd_3c970e7ebefflevel0_row12\" class=\"row_heading level0 row12\" >tensorflow</th>\n",
       "                        <td id=\"T_cd35bbfa_12b2_11eb_a6cd_3c970e7ebeffrow12_col0\" class=\"data row12 col0\" >7</td>\n",
       "                        <td id=\"T_cd35bbfa_12b2_11eb_a6cd_3c970e7ebeffrow12_col1\" class=\"data row12 col1\" >0</td>\n",
       "                        <td id=\"T_cd35bbfa_12b2_11eb_a6cd_3c970e7ebeffrow12_col2\" class=\"data row12 col2\" >1</td>\n",
       "                        <td id=\"T_cd35bbfa_12b2_11eb_a6cd_3c970e7ebeffrow12_col3\" class=\"data row12 col3\" >4</td>\n",
       "                        <td id=\"T_cd35bbfa_12b2_11eb_a6cd_3c970e7ebeffrow12_col4\" class=\"data row12 col4\" >0</td>\n",
       "                        <td id=\"T_cd35bbfa_12b2_11eb_a6cd_3c970e7ebeffrow12_col5\" class=\"data row12 col5\" >8</td>\n",
       "                        <td id=\"T_cd35bbfa_12b2_11eb_a6cd_3c970e7ebeffrow12_col6\" class=\"data row12 col6\" >6</td>\n",
       "                        <td id=\"T_cd35bbfa_12b2_11eb_a6cd_3c970e7ebeffrow12_col7\" class=\"data row12 col7\" >28</td>\n",
       "                        <td id=\"T_cd35bbfa_12b2_11eb_a6cd_3c970e7ebeffrow12_col8\" class=\"data row12 col8\" >3</td>\n",
       "                        <td id=\"T_cd35bbfa_12b2_11eb_a6cd_3c970e7ebeffrow12_col9\" class=\"data row12 col9\" >7</td>\n",
       "                        <td id=\"T_cd35bbfa_12b2_11eb_a6cd_3c970e7ebeffrow12_col10\" class=\"data row12 col10\" >44</td>\n",
       "                        <td id=\"T_cd35bbfa_12b2_11eb_a6cd_3c970e7ebeffrow12_col11\" class=\"data row12 col11\" >9</td>\n",
       "                        <td id=\"T_cd35bbfa_12b2_11eb_a6cd_3c970e7ebeffrow12_col12\" class=\"data row12 col12\" >458</td>\n",
       "                        <td id=\"T_cd35bbfa_12b2_11eb_a6cd_3c970e7ebeffrow12_col13\" class=\"data row12 col13\" >8</td>\n",
       "                        <td id=\"T_cd35bbfa_12b2_11eb_a6cd_3c970e7ebeffrow12_col14\" class=\"data row12 col14\" >18</td>\n",
       "                        <td id=\"T_cd35bbfa_12b2_11eb_a6cd_3c970e7ebeffrow12_col15\" class=\"data row12 col15\" >217</td>\n",
       "                        <td id=\"T_cd35bbfa_12b2_11eb_a6cd_3c970e7ebeffrow12_col16\" class=\"data row12 col16\" >88</td>\n",
       "                        <td id=\"T_cd35bbfa_12b2_11eb_a6cd_3c970e7ebeffrow12_col17\" class=\"data row12 col17\" >111</td>\n",
       "                        <td id=\"T_cd35bbfa_12b2_11eb_a6cd_3c970e7ebeffrow12_col18\" class=\"data row12 col18\" >129</td>\n",
       "                        <td id=\"T_cd35bbfa_12b2_11eb_a6cd_3c970e7ebeffrow12_col19\" class=\"data row12 col19\" >82</td>\n",
       "            </tr>\n",
       "            <tr>\n",
       "                        <th id=\"T_cd35bbfa_12b2_11eb_a6cd_3c970e7ebefflevel0_row13\" class=\"row_heading level0 row13\" >scikit-learn</th>\n",
       "                        <td id=\"T_cd35bbfa_12b2_11eb_a6cd_3c970e7ebeffrow13_col0\" class=\"data row13 col0\" >15</td>\n",
       "                        <td id=\"T_cd35bbfa_12b2_11eb_a6cd_3c970e7ebeffrow13_col1\" class=\"data row13 col1\" >4</td>\n",
       "                        <td id=\"T_cd35bbfa_12b2_11eb_a6cd_3c970e7ebeffrow13_col2\" class=\"data row13 col2\" >1</td>\n",
       "                        <td id=\"T_cd35bbfa_12b2_11eb_a6cd_3c970e7ebeffrow13_col3\" class=\"data row13 col3\" >12</td>\n",
       "                        <td id=\"T_cd35bbfa_12b2_11eb_a6cd_3c970e7ebeffrow13_col4\" class=\"data row13 col4\" >22</td>\n",
       "                        <td id=\"T_cd35bbfa_12b2_11eb_a6cd_3c970e7ebeffrow13_col5\" class=\"data row13 col5\" >6</td>\n",
       "                        <td id=\"T_cd35bbfa_12b2_11eb_a6cd_3c970e7ebeffrow13_col6\" class=\"data row13 col6\" >34</td>\n",
       "                        <td id=\"T_cd35bbfa_12b2_11eb_a6cd_3c970e7ebeffrow13_col7\" class=\"data row13 col7\" >1</td>\n",
       "                        <td id=\"T_cd35bbfa_12b2_11eb_a6cd_3c970e7ebeffrow13_col8\" class=\"data row13 col8\" >32</td>\n",
       "                        <td id=\"T_cd35bbfa_12b2_11eb_a6cd_3c970e7ebeffrow13_col9\" class=\"data row13 col9\" >9</td>\n",
       "                        <td id=\"T_cd35bbfa_12b2_11eb_a6cd_3c970e7ebeffrow13_col10\" class=\"data row13 col10\" >0</td>\n",
       "                        <td id=\"T_cd35bbfa_12b2_11eb_a6cd_3c970e7ebeffrow13_col11\" class=\"data row13 col11\" >12</td>\n",
       "                        <td id=\"T_cd35bbfa_12b2_11eb_a6cd_3c970e7ebeffrow13_col12\" class=\"data row13 col12\" >8</td>\n",
       "                        <td id=\"T_cd35bbfa_12b2_11eb_a6cd_3c970e7ebeffrow13_col13\" class=\"data row13 col13\" >465</td>\n",
       "                        <td id=\"T_cd35bbfa_12b2_11eb_a6cd_3c970e7ebeffrow13_col14\" class=\"data row13 col14\" >42</td>\n",
       "                        <td id=\"T_cd35bbfa_12b2_11eb_a6cd_3c970e7ebeffrow13_col15\" class=\"data row13 col15\" >26</td>\n",
       "                        <td id=\"T_cd35bbfa_12b2_11eb_a6cd_3c970e7ebeffrow13_col16\" class=\"data row13 col16\" >21</td>\n",
       "                        <td id=\"T_cd35bbfa_12b2_11eb_a6cd_3c970e7ebeffrow13_col17\" class=\"data row13 col17\" >12</td>\n",
       "                        <td id=\"T_cd35bbfa_12b2_11eb_a6cd_3c970e7ebeffrow13_col18\" class=\"data row13 col18\" >204</td>\n",
       "                        <td id=\"T_cd35bbfa_12b2_11eb_a6cd_3c970e7ebeffrow13_col19\" class=\"data row13 col19\" >164</td>\n",
       "            </tr>\n",
       "            <tr>\n",
       "                        <th id=\"T_cd35bbfa_12b2_11eb_a6cd_3c970e7ebefflevel0_row14\" class=\"row_heading level0 row14\" >classification</th>\n",
       "                        <td id=\"T_cd35bbfa_12b2_11eb_a6cd_3c970e7ebeffrow14_col0\" class=\"data row14 col0\" >21</td>\n",
       "                        <td id=\"T_cd35bbfa_12b2_11eb_a6cd_3c970e7ebeffrow14_col1\" class=\"data row14 col1\" >16</td>\n",
       "                        <td id=\"T_cd35bbfa_12b2_11eb_a6cd_3c970e7ebeffrow14_col2\" class=\"data row14 col2\" >8</td>\n",
       "                        <td id=\"T_cd35bbfa_12b2_11eb_a6cd_3c970e7ebeffrow14_col3\" class=\"data row14 col3\" >24</td>\n",
       "                        <td id=\"T_cd35bbfa_12b2_11eb_a6cd_3c970e7ebeffrow14_col4\" class=\"data row14 col4\" >11</td>\n",
       "                        <td id=\"T_cd35bbfa_12b2_11eb_a6cd_3c970e7ebeffrow14_col5\" class=\"data row14 col5\" >22</td>\n",
       "                        <td id=\"T_cd35bbfa_12b2_11eb_a6cd_3c970e7ebeffrow14_col6\" class=\"data row14 col6\" >29</td>\n",
       "                        <td id=\"T_cd35bbfa_12b2_11eb_a6cd_3c970e7ebeffrow14_col7\" class=\"data row14 col7\" >13</td>\n",
       "                        <td id=\"T_cd35bbfa_12b2_11eb_a6cd_3c970e7ebeffrow14_col8\" class=\"data row14 col8\" >3</td>\n",
       "                        <td id=\"T_cd35bbfa_12b2_11eb_a6cd_3c970e7ebeffrow14_col9\" class=\"data row14 col9\" >19</td>\n",
       "                        <td id=\"T_cd35bbfa_12b2_11eb_a6cd_3c970e7ebeffrow14_col10\" class=\"data row14 col10\" >15</td>\n",
       "                        <td id=\"T_cd35bbfa_12b2_11eb_a6cd_3c970e7ebeffrow14_col11\" class=\"data row14 col11\" >32</td>\n",
       "                        <td id=\"T_cd35bbfa_12b2_11eb_a6cd_3c970e7ebeffrow14_col12\" class=\"data row14 col12\" >18</td>\n",
       "                        <td id=\"T_cd35bbfa_12b2_11eb_a6cd_3c970e7ebeffrow14_col13\" class=\"data row14 col13\" >42</td>\n",
       "                        <td id=\"T_cd35bbfa_12b2_11eb_a6cd_3c970e7ebeffrow14_col14\" class=\"data row14 col14\" >600</td>\n",
       "                        <td id=\"T_cd35bbfa_12b2_11eb_a6cd_3c970e7ebeffrow14_col15\" class=\"data row14 col15\" >50</td>\n",
       "                        <td id=\"T_cd35bbfa_12b2_11eb_a6cd_3c970e7ebeffrow14_col16\" class=\"data row14 col16\" >55</td>\n",
       "                        <td id=\"T_cd35bbfa_12b2_11eb_a6cd_3c970e7ebeffrow14_col17\" class=\"data row14 col17\" >52</td>\n",
       "                        <td id=\"T_cd35bbfa_12b2_11eb_a6cd_3c970e7ebeffrow14_col18\" class=\"data row14 col18\" >86</td>\n",
       "                        <td id=\"T_cd35bbfa_12b2_11eb_a6cd_3c970e7ebeffrow14_col19\" class=\"data row14 col19\" >233</td>\n",
       "            </tr>\n",
       "            <tr>\n",
       "                        <th id=\"T_cd35bbfa_12b2_11eb_a6cd_3c970e7ebefflevel0_row15\" class=\"row_heading level0 row15\" >keras</th>\n",
       "                        <td id=\"T_cd35bbfa_12b2_11eb_a6cd_3c970e7ebeffrow15_col0\" class=\"data row15 col0\" >13</td>\n",
       "                        <td id=\"T_cd35bbfa_12b2_11eb_a6cd_3c970e7ebeffrow15_col1\" class=\"data row15 col1\" >1</td>\n",
       "                        <td id=\"T_cd35bbfa_12b2_11eb_a6cd_3c970e7ebeffrow15_col2\" class=\"data row15 col2\" >9</td>\n",
       "                        <td id=\"T_cd35bbfa_12b2_11eb_a6cd_3c970e7ebeffrow15_col3\" class=\"data row15 col3\" >11</td>\n",
       "                        <td id=\"T_cd35bbfa_12b2_11eb_a6cd_3c970e7ebeffrow15_col4\" class=\"data row15 col4\" >0</td>\n",
       "                        <td id=\"T_cd35bbfa_12b2_11eb_a6cd_3c970e7ebeffrow15_col5\" class=\"data row15 col5\" >9</td>\n",
       "                        <td id=\"T_cd35bbfa_12b2_11eb_a6cd_3c970e7ebeffrow15_col6\" class=\"data row15 col6\" >27</td>\n",
       "                        <td id=\"T_cd35bbfa_12b2_11eb_a6cd_3c970e7ebeffrow15_col7\" class=\"data row15 col7\" >106</td>\n",
       "                        <td id=\"T_cd35bbfa_12b2_11eb_a6cd_3c970e7ebeffrow15_col8\" class=\"data row15 col8\" >3</td>\n",
       "                        <td id=\"T_cd35bbfa_12b2_11eb_a6cd_3c970e7ebeffrow15_col9\" class=\"data row15 col9\" >38</td>\n",
       "                        <td id=\"T_cd35bbfa_12b2_11eb_a6cd_3c970e7ebeffrow15_col10\" class=\"data row15 col10\" >98</td>\n",
       "                        <td id=\"T_cd35bbfa_12b2_11eb_a6cd_3c970e7ebeffrow15_col11\" class=\"data row15 col11\" >20</td>\n",
       "                        <td id=\"T_cd35bbfa_12b2_11eb_a6cd_3c970e7ebeffrow15_col12\" class=\"data row15 col12\" >217</td>\n",
       "                        <td id=\"T_cd35bbfa_12b2_11eb_a6cd_3c970e7ebeffrow15_col13\" class=\"data row15 col13\" >26</td>\n",
       "                        <td id=\"T_cd35bbfa_12b2_11eb_a6cd_3c970e7ebeffrow15_col14\" class=\"data row15 col14\" >50</td>\n",
       "                        <td id=\"T_cd35bbfa_12b2_11eb_a6cd_3c970e7ebeffrow15_col15\" class=\"data row15 col15\" >773</td>\n",
       "                        <td id=\"T_cd35bbfa_12b2_11eb_a6cd_3c970e7ebeffrow15_col16\" class=\"data row15 col16\" >208</td>\n",
       "                        <td id=\"T_cd35bbfa_12b2_11eb_a6cd_3c970e7ebeffrow15_col17\" class=\"data row15 col17\" >210</td>\n",
       "                        <td id=\"T_cd35bbfa_12b2_11eb_a6cd_3c970e7ebeffrow15_col18\" class=\"data row15 col18\" >225</td>\n",
       "                        <td id=\"T_cd35bbfa_12b2_11eb_a6cd_3c970e7ebeffrow15_col19\" class=\"data row15 col19\" >165</td>\n",
       "            </tr>\n",
       "            <tr>\n",
       "                        <th id=\"T_cd35bbfa_12b2_11eb_a6cd_3c970e7ebefflevel0_row16\" class=\"row_heading level0 row16\" >neural-network</th>\n",
       "                        <td id=\"T_cd35bbfa_12b2_11eb_a6cd_3c970e7ebeffrow16_col0\" class=\"data row16 col0\" >8</td>\n",
       "                        <td id=\"T_cd35bbfa_12b2_11eb_a6cd_3c970e7ebeffrow16_col1\" class=\"data row16 col1\" >8</td>\n",
       "                        <td id=\"T_cd35bbfa_12b2_11eb_a6cd_3c970e7ebeffrow16_col2\" class=\"data row16 col2\" >6</td>\n",
       "                        <td id=\"T_cd35bbfa_12b2_11eb_a6cd_3c970e7ebeffrow16_col3\" class=\"data row16 col3\" >9</td>\n",
       "                        <td id=\"T_cd35bbfa_12b2_11eb_a6cd_3c970e7ebeffrow16_col4\" class=\"data row16 col4\" >5</td>\n",
       "                        <td id=\"T_cd35bbfa_12b2_11eb_a6cd_3c970e7ebeffrow16_col5\" class=\"data row16 col5\" >17</td>\n",
       "                        <td id=\"T_cd35bbfa_12b2_11eb_a6cd_3c970e7ebeffrow16_col6\" class=\"data row16 col6\" >40</td>\n",
       "                        <td id=\"T_cd35bbfa_12b2_11eb_a6cd_3c970e7ebeffrow16_col7\" class=\"data row16 col7\" >55</td>\n",
       "                        <td id=\"T_cd35bbfa_12b2_11eb_a6cd_3c970e7ebeffrow16_col8\" class=\"data row16 col8\" >1</td>\n",
       "                        <td id=\"T_cd35bbfa_12b2_11eb_a6cd_3c970e7ebeffrow16_col9\" class=\"data row16 col9\" >28</td>\n",
       "                        <td id=\"T_cd35bbfa_12b2_11eb_a6cd_3c970e7ebeffrow16_col10\" class=\"data row16 col10\" >100</td>\n",
       "                        <td id=\"T_cd35bbfa_12b2_11eb_a6cd_3c970e7ebeffrow16_col11\" class=\"data row16 col11\" >22</td>\n",
       "                        <td id=\"T_cd35bbfa_12b2_11eb_a6cd_3c970e7ebeffrow16_col12\" class=\"data row16 col12\" >88</td>\n",
       "                        <td id=\"T_cd35bbfa_12b2_11eb_a6cd_3c970e7ebeffrow16_col13\" class=\"data row16 col13\" >21</td>\n",
       "                        <td id=\"T_cd35bbfa_12b2_11eb_a6cd_3c970e7ebeffrow16_col14\" class=\"data row16 col14\" >55</td>\n",
       "                        <td id=\"T_cd35bbfa_12b2_11eb_a6cd_3c970e7ebeffrow16_col15\" class=\"data row16 col15\" >208</td>\n",
       "                        <td id=\"T_cd35bbfa_12b2_11eb_a6cd_3c970e7ebeffrow16_col16\" class=\"data row16 col16\" >888</td>\n",
       "                        <td id=\"T_cd35bbfa_12b2_11eb_a6cd_3c970e7ebeffrow16_col17\" class=\"data row16 col17\" >263</td>\n",
       "                        <td id=\"T_cd35bbfa_12b2_11eb_a6cd_3c970e7ebeffrow16_col18\" class=\"data row16 col18\" >118</td>\n",
       "                        <td id=\"T_cd35bbfa_12b2_11eb_a6cd_3c970e7ebeffrow16_col19\" class=\"data row16 col19\" >314</td>\n",
       "            </tr>\n",
       "            <tr>\n",
       "                        <th id=\"T_cd35bbfa_12b2_11eb_a6cd_3c970e7ebefflevel0_row17\" class=\"row_heading level0 row17\" >deep-learning</th>\n",
       "                        <td id=\"T_cd35bbfa_12b2_11eb_a6cd_3c970e7ebeffrow17_col0\" class=\"data row17 col0\" >12</td>\n",
       "                        <td id=\"T_cd35bbfa_12b2_11eb_a6cd_3c970e7ebeffrow17_col1\" class=\"data row17 col1\" >11</td>\n",
       "                        <td id=\"T_cd35bbfa_12b2_11eb_a6cd_3c970e7ebeffrow17_col2\" class=\"data row17 col2\" >4</td>\n",
       "                        <td id=\"T_cd35bbfa_12b2_11eb_a6cd_3c970e7ebeffrow17_col3\" class=\"data row17 col3\" >25</td>\n",
       "                        <td id=\"T_cd35bbfa_12b2_11eb_a6cd_3c970e7ebeffrow17_col4\" class=\"data row17 col4\" >2</td>\n",
       "                        <td id=\"T_cd35bbfa_12b2_11eb_a6cd_3c970e7ebeffrow17_col5\" class=\"data row17 col5\" >22</td>\n",
       "                        <td id=\"T_cd35bbfa_12b2_11eb_a6cd_3c970e7ebeffrow17_col6\" class=\"data row17 col6\" >18</td>\n",
       "                        <td id=\"T_cd35bbfa_12b2_11eb_a6cd_3c970e7ebeffrow17_col7\" class=\"data row17 col7\" >76</td>\n",
       "                        <td id=\"T_cd35bbfa_12b2_11eb_a6cd_3c970e7ebeffrow17_col8\" class=\"data row17 col8\" >1</td>\n",
       "                        <td id=\"T_cd35bbfa_12b2_11eb_a6cd_3c970e7ebeffrow17_col9\" class=\"data row17 col9\" >31</td>\n",
       "                        <td id=\"T_cd35bbfa_12b2_11eb_a6cd_3c970e7ebeffrow17_col10\" class=\"data row17 col10\" >131</td>\n",
       "                        <td id=\"T_cd35bbfa_12b2_11eb_a6cd_3c970e7ebeffrow17_col11\" class=\"data row17 col11\" >59</td>\n",
       "                        <td id=\"T_cd35bbfa_12b2_11eb_a6cd_3c970e7ebeffrow17_col12\" class=\"data row17 col12\" >111</td>\n",
       "                        <td id=\"T_cd35bbfa_12b2_11eb_a6cd_3c970e7ebeffrow17_col13\" class=\"data row17 col13\" >12</td>\n",
       "                        <td id=\"T_cd35bbfa_12b2_11eb_a6cd_3c970e7ebeffrow17_col14\" class=\"data row17 col14\" >52</td>\n",
       "                        <td id=\"T_cd35bbfa_12b2_11eb_a6cd_3c970e7ebeffrow17_col15\" class=\"data row17 col15\" >210</td>\n",
       "                        <td id=\"T_cd35bbfa_12b2_11eb_a6cd_3c970e7ebeffrow17_col16\" class=\"data row17 col16\" >263</td>\n",
       "                        <td id=\"T_cd35bbfa_12b2_11eb_a6cd_3c970e7ebeffrow17_col17\" class=\"data row17 col17\" >970</td>\n",
       "                        <td id=\"T_cd35bbfa_12b2_11eb_a6cd_3c970e7ebeffrow17_col18\" class=\"data row17 col18\" >119</td>\n",
       "                        <td id=\"T_cd35bbfa_12b2_11eb_a6cd_3c970e7ebeffrow17_col19\" class=\"data row17 col19\" >350</td>\n",
       "            </tr>\n",
       "            <tr>\n",
       "                        <th id=\"T_cd35bbfa_12b2_11eb_a6cd_3c970e7ebefflevel0_row18\" class=\"row_heading level0 row18\" >python</th>\n",
       "                        <td id=\"T_cd35bbfa_12b2_11eb_a6cd_3c970e7ebeffrow18_col0\" class=\"data row18 col0\" >32</td>\n",
       "                        <td id=\"T_cd35bbfa_12b2_11eb_a6cd_3c970e7ebeffrow18_col1\" class=\"data row18 col1\" >30</td>\n",
       "                        <td id=\"T_cd35bbfa_12b2_11eb_a6cd_3c970e7ebeffrow18_col2\" class=\"data row18 col2\" >20</td>\n",
       "                        <td id=\"T_cd35bbfa_12b2_11eb_a6cd_3c970e7ebeffrow18_col3\" class=\"data row18 col3\" >30</td>\n",
       "                        <td id=\"T_cd35bbfa_12b2_11eb_a6cd_3c970e7ebeffrow18_col4\" class=\"data row18 col4\" >42</td>\n",
       "                        <td id=\"T_cd35bbfa_12b2_11eb_a6cd_3c970e7ebeffrow18_col5\" class=\"data row18 col5\" >46</td>\n",
       "                        <td id=\"T_cd35bbfa_12b2_11eb_a6cd_3c970e7ebeffrow18_col6\" class=\"data row18 col6\" >52</td>\n",
       "                        <td id=\"T_cd35bbfa_12b2_11eb_a6cd_3c970e7ebeffrow18_col7\" class=\"data row18 col7\" >46</td>\n",
       "                        <td id=\"T_cd35bbfa_12b2_11eb_a6cd_3c970e7ebeffrow18_col8\" class=\"data row18 col8\" >227</td>\n",
       "                        <td id=\"T_cd35bbfa_12b2_11eb_a6cd_3c970e7ebeffrow18_col9\" class=\"data row18 col9\" >80</td>\n",
       "                        <td id=\"T_cd35bbfa_12b2_11eb_a6cd_3c970e7ebeffrow18_col10\" class=\"data row18 col10\" >49</td>\n",
       "                        <td id=\"T_cd35bbfa_12b2_11eb_a6cd_3c970e7ebeffrow18_col11\" class=\"data row18 col11\" >66</td>\n",
       "                        <td id=\"T_cd35bbfa_12b2_11eb_a6cd_3c970e7ebeffrow18_col12\" class=\"data row18 col12\" >129</td>\n",
       "                        <td id=\"T_cd35bbfa_12b2_11eb_a6cd_3c970e7ebeffrow18_col13\" class=\"data row18 col13\" >204</td>\n",
       "                        <td id=\"T_cd35bbfa_12b2_11eb_a6cd_3c970e7ebeffrow18_col14\" class=\"data row18 col14\" >86</td>\n",
       "                        <td id=\"T_cd35bbfa_12b2_11eb_a6cd_3c970e7ebeffrow18_col15\" class=\"data row18 col15\" >225</td>\n",
       "                        <td id=\"T_cd35bbfa_12b2_11eb_a6cd_3c970e7ebeffrow18_col16\" class=\"data row18 col16\" >118</td>\n",
       "                        <td id=\"T_cd35bbfa_12b2_11eb_a6cd_3c970e7ebeffrow18_col17\" class=\"data row18 col17\" >119</td>\n",
       "                        <td id=\"T_cd35bbfa_12b2_11eb_a6cd_3c970e7ebeffrow18_col18\" class=\"data row18 col18\" >1540</td>\n",
       "                        <td id=\"T_cd35bbfa_12b2_11eb_a6cd_3c970e7ebeffrow18_col19\" class=\"data row18 col19\" >434</td>\n",
       "            </tr>\n",
       "            <tr>\n",
       "                        <th id=\"T_cd35bbfa_12b2_11eb_a6cd_3c970e7ebefflevel0_row19\" class=\"row_heading level0 row19\" >machine-learning</th>\n",
       "                        <td id=\"T_cd35bbfa_12b2_11eb_a6cd_3c970e7ebeffrow19_col0\" class=\"data row19 col0\" >112</td>\n",
       "                        <td id=\"T_cd35bbfa_12b2_11eb_a6cd_3c970e7ebeffrow19_col1\" class=\"data row19 col1\" >79</td>\n",
       "                        <td id=\"T_cd35bbfa_12b2_11eb_a6cd_3c970e7ebeffrow19_col2\" class=\"data row19 col2\" >51</td>\n",
       "                        <td id=\"T_cd35bbfa_12b2_11eb_a6cd_3c970e7ebeffrow19_col3\" class=\"data row19 col3\" >103</td>\n",
       "                        <td id=\"T_cd35bbfa_12b2_11eb_a6cd_3c970e7ebeffrow19_col4\" class=\"data row19 col4\" >55</td>\n",
       "                        <td id=\"T_cd35bbfa_12b2_11eb_a6cd_3c970e7ebeffrow19_col5\" class=\"data row19 col5\" >83</td>\n",
       "                        <td id=\"T_cd35bbfa_12b2_11eb_a6cd_3c970e7ebeffrow19_col6\" class=\"data row19 col6\" >105</td>\n",
       "                        <td id=\"T_cd35bbfa_12b2_11eb_a6cd_3c970e7ebeffrow19_col7\" class=\"data row19 col7\" >50</td>\n",
       "                        <td id=\"T_cd35bbfa_12b2_11eb_a6cd_3c970e7ebeffrow19_col8\" class=\"data row19 col8\" >57</td>\n",
       "                        <td id=\"T_cd35bbfa_12b2_11eb_a6cd_3c970e7ebeffrow19_col9\" class=\"data row19 col9\" >112</td>\n",
       "                        <td id=\"T_cd35bbfa_12b2_11eb_a6cd_3c970e7ebeffrow19_col10\" class=\"data row19 col10\" >101</td>\n",
       "                        <td id=\"T_cd35bbfa_12b2_11eb_a6cd_3c970e7ebeffrow19_col11\" class=\"data row19 col11\" >98</td>\n",
       "                        <td id=\"T_cd35bbfa_12b2_11eb_a6cd_3c970e7ebeffrow19_col12\" class=\"data row19 col12\" >82</td>\n",
       "                        <td id=\"T_cd35bbfa_12b2_11eb_a6cd_3c970e7ebeffrow19_col13\" class=\"data row19 col13\" >164</td>\n",
       "                        <td id=\"T_cd35bbfa_12b2_11eb_a6cd_3c970e7ebeffrow19_col14\" class=\"data row19 col14\" >233</td>\n",
       "                        <td id=\"T_cd35bbfa_12b2_11eb_a6cd_3c970e7ebeffrow19_col15\" class=\"data row19 col15\" >165</td>\n",
       "                        <td id=\"T_cd35bbfa_12b2_11eb_a6cd_3c970e7ebeffrow19_col16\" class=\"data row19 col16\" >314</td>\n",
       "                        <td id=\"T_cd35bbfa_12b2_11eb_a6cd_3c970e7ebeffrow19_col17\" class=\"data row19 col17\" >350</td>\n",
       "                        <td id=\"T_cd35bbfa_12b2_11eb_a6cd_3c970e7ebeffrow19_col18\" class=\"data row19 col18\" >434</td>\n",
       "                        <td id=\"T_cd35bbfa_12b2_11eb_a6cd_3c970e7ebeffrow19_col19\" class=\"data row19 col19\" >2269</td>\n",
       "            </tr>\n",
       "    </tbody></table>"
      ],
      "text/plain": [
       "<pandas.io.formats.style.Styler at 0x26ec2248388>"
      ]
     },
     "execution_count": 17,
     "metadata": {},
     "output_type": "execute_result"
    }
   ],
   "source": [
    "relations_most_used = associations.loc[most_used.index, most_used.index]\n",
    "\n",
    "def style_cells(x):\n",
    "    helper_df = pd.DataFrame('', index=x.index, columns=x.columns)\n",
    "    helper_df.loc[\"time-series\", \"r\"] = \"background-color: yellow\"\n",
    "    helper_df.loc[\"r\", \"time-series\"] = \"background-color: yellow\"\n",
    "    for k in range(helper_df.shape[0]):\n",
    "        helper_df.iloc[k,k] = \"color: blue\"\n",
    "    \n",
    "    return helper_df\n",
    "\n",
    "relations_most_used.style.apply(style_cells, axis=None)"
   ]
  },
  {
   "cell_type": "markdown",
   "metadata": {},
   "source": [
    "The cells highlighted in yellow tell us that time-series was used together with r 22 times. The values in blue tell us how many times each of the tags was used. We saw earlier that machine-learning was used 2693 times and we confirm it in this dataframe.\n",
    "\n",
    "It's hard for a human to understand what is going on in this dataframe. Let's create a heatmap. But before we do it, let's get rid of the values in blue, otherwise the colors will be too skewed."
   ]
  },
  {
   "cell_type": "code",
   "execution_count": 18,
   "metadata": {},
   "outputs": [
    {
     "name": "stderr",
     "output_type": "stream",
     "text": [
      "C:\\Users\\user\\anaconda3\\lib\\site-packages\\ipykernel_launcher.py:2: FutureWarning: The pandas.np module is deprecated and will be removed from pandas in a future version. Import numpy directly instead\n",
      "  \n"
     ]
    }
   ],
   "source": [
    "for i in range(relations_most_used.shape[0]):\n",
    "    relations_most_used.iloc[i,i] = pd.np.NaN"
   ]
  },
  {
   "cell_type": "code",
   "execution_count": 19,
   "metadata": {},
   "outputs": [
    {
     "data": {
      "text/plain": [
       "<matplotlib.axes._subplots.AxesSubplot at 0x26ec27da9c8>"
      ]
     },
     "execution_count": 19,
     "metadata": {},
     "output_type": "execute_result"
    },
    {
     "data": {
      "image/png": "[encoded data removed]",
      "text/plain": [
       "<Figure size 864x576 with 2 Axes>"
      ]
     },
     "metadata": {
      "needs_background": "light"
     },
     "output_type": "display_data"
    }
   ],
   "source": [
    "plt.figure(figsize=(12,8))\n",
    "sns.heatmap(relations_most_used, cmap=\"Greens\", annot=False)"
   ]
  },
  {
   "cell_type": "markdown",
   "metadata": {},
   "source": [
    "The most used tags also seem to have the strongest relationships, as given by the dark concentration in the bottom right corner. However, this could simply be because each of these tags is used a lot, and so end up being used together a lot without possibly even having any strong relation between them.\n",
    "\n",
    "A more intuitive manifestation of this phenomenon is the following. A lot of people buy bread, a lot of people buy toilet paper, so they end up being purchased together a lot, but purchasing one of them doesn't increase the chances of purchasing the other.\n",
    "\n",
    "Another shortcoming of this attempt is that it only looks at relations between pairs of tags and not between multiple groups of tags. For example, it could be the case that when used together, dataset and scikit-learn have a \"strong\" relation to pandas, but each by itself doesn't.\n",
    "\n",
    "So how do we attack both these problems? There is a powerful data mining technique that allows us to handle this: association rules. Association rules allow us to analytically spot relations like \"people who purchase milk, also purchase eggs\". Moreover, we can also measure how strong this relations are on several fronts: how common the relation is, how strong it is, and how independent the components of the relationship are (toilet paper and bread are probably more independent than eggs and milk — you'll learn more about statistical independence) in the next step).\n",
    "\n",
    "We won't get into the details of it, as the technique is out of scope for this course, but it is a path worth investigating!\n",
    "\n",
    "## Enter Domain Knowledge\n",
    "Keras, scikit-learn, TensorFlow are all Python libraries that allow their users to employ deep learning (a type of neural network).\n",
    "\n",
    "Most of the top tags are all intimately related with one central machine learning theme: deep learning. If we want to be very specific, we can suggest the creation of Python content that uses deep learning for classification problems (and other variations of this suggestion).\n",
    "\n",
    "At the glance of an eye, someone with sufficient domain knowledge can tell that the most popular topic at the moment, as shown by our analysis, is deep learning.\n",
    "\n",
    "## Just a Fad?\n",
    "Let's read in the file into a dataframe called all_q. We'll parse the dates at read-time."
   ]
  },
  {
   "cell_type": "code",
   "execution_count": 21,
   "metadata": {},
   "outputs": [],
   "source": [
    "all_q = pd.read_csv(\"2019_questions.csv\", parse_dates=[\"CreationDate\"])"
   ]
  },
  {
   "cell_type": "markdown",
   "metadata": {},
   "source": [
    "We can use the same technique as before to clean the tags column."
   ]
  },
  {
   "cell_type": "code",
   "execution_count": 22,
   "metadata": {},
   "outputs": [],
   "source": [
    "all_q[\"Tags\"] = all_q[\"Tags\"].str.replace(\"^<|>$\", \"\").str.split(\"><\")"
   ]
  },
  {
   "cell_type": "markdown",
   "metadata": {},
   "source": [
    "Before deciding which questions should be classified as being deep learning questions, we should decide what tags are deep learning tags.\n",
    "\n",
    "The definition of what constitutes a deep learning tag we'll use is: a tag that belongs to the list [\"lstm\", \"cnn\", \"scikit-learn\", \"tensorflow\", \"keras\", \"neural-network\", \"deep-learning\"].\n",
    "\n",
    "This list was obtained by looking at all the tags in most_used and seeing which ones had any relation to deep learning. You can use Google and read the tags descriptions to reach similar results.\n",
    "\n",
    "We'll now create a function that assigns 1 to deep learning questions and 0 otherwise; and we use it."
   ]
  },
  {
   "cell_type": "code",
   "execution_count": 23,
   "metadata": {},
   "outputs": [],
   "source": [
    "def class_deep_learning(tags):\n",
    "    for tag in tags:\n",
    "        if tag in [\"lstm\", \"cnn\", \"scikit-learn\", \"tensorflow\",\n",
    "                   \"keras\", \"neural-network\", \"deep-learning\"]:\n",
    "            return 1\n",
    "    return 0"
   ]
  },
  {
   "cell_type": "code",
   "execution_count": 24,
   "metadata": {},
   "outputs": [],
   "source": [
    "all_q[\"DeepLearning\"] = all_q[\"Tags\"].apply(class_deep_learning)"
   ]
  },
  {
   "cell_type": "code",
   "execution_count": 25,
   "metadata": {},
   "outputs": [
    {
     "data": {
      "text/html": [
       "<div>\n",
       "<style scoped>\n",
       "    .dataframe tbody tr th:only-of-type {\n",
       "        vertical-align: middle;\n",
       "    }\n",
       "\n",
       "    .dataframe tbody tr th {\n",
       "        vertical-align: top;\n",
       "    }\n",
       "\n",
       "    .dataframe thead th {\n",
       "        text-align: right;\n",
       "    }\n",
       "</style>\n",
       "<table border=\"1\" class=\"dataframe\">\n",
       "  <thead>\n",
       "    <tr style=\"text-align: right;\">\n",
       "      <th></th>\n",
       "      <th>Id</th>\n",
       "      <th>CreationDate</th>\n",
       "      <th>Score</th>\n",
       "      <th>ViewCount</th>\n",
       "      <th>Tags</th>\n",
       "      <th>AnswerCount</th>\n",
       "      <th>FavoriteCount</th>\n",
       "      <th>DeepLearning</th>\n",
       "    </tr>\n",
       "  </thead>\n",
       "  <tbody>\n",
       "    <tr>\n",
       "      <th>4501</th>\n",
       "      <td>58785</td>\n",
       "      <td>2019-09-06 12:00:00</td>\n",
       "      <td>1</td>\n",
       "      <td>300</td>\n",
       "      <td>[deep-learning, cnn, batch-normalization]</td>\n",
       "      <td>1</td>\n",
       "      <td>NaN</td>\n",
       "      <td>1</td>\n",
       "    </tr>\n",
       "    <tr>\n",
       "      <th>3390</th>\n",
       "      <td>57155</td>\n",
       "      <td>2019-08-07 17:22:00</td>\n",
       "      <td>1</td>\n",
       "      <td>507</td>\n",
       "      <td>[machine-learning, classification, probability...</td>\n",
       "      <td>1</td>\n",
       "      <td>NaN</td>\n",
       "      <td>0</td>\n",
       "    </tr>\n",
       "    <tr>\n",
       "      <th>741</th>\n",
       "      <td>64548</td>\n",
       "      <td>2019-12-10 12:03:00</td>\n",
       "      <td>0</td>\n",
       "      <td>114</td>\n",
       "      <td>[python, deep-learning]</td>\n",
       "      <td>1</td>\n",
       "      <td>NaN</td>\n",
       "      <td>1</td>\n",
       "    </tr>\n",
       "    <tr>\n",
       "      <th>6664</th>\n",
       "      <td>62928</td>\n",
       "      <td>2019-11-09 20:36:00</td>\n",
       "      <td>2</td>\n",
       "      <td>104</td>\n",
       "      <td>[overfitting, regularization, noise]</td>\n",
       "      <td>2</td>\n",
       "      <td>NaN</td>\n",
       "      <td>0</td>\n",
       "    </tr>\n",
       "    <tr>\n",
       "      <th>4809</th>\n",
       "      <td>60325</td>\n",
       "      <td>2019-09-17 14:15:00</td>\n",
       "      <td>1</td>\n",
       "      <td>355</td>\n",
       "      <td>[tensorflow, decision-trees, pytorch, numpy, p...</td>\n",
       "      <td>0</td>\n",
       "      <td>NaN</td>\n",
       "      <td>1</td>\n",
       "    </tr>\n",
       "  </tbody>\n",
       "</table>\n",
       "</div>"
      ],
      "text/plain": [
       "         Id        CreationDate  Score  ViewCount  \\\n",
       "4501  58785 2019-09-06 12:00:00      1        300   \n",
       "3390  57155 2019-08-07 17:22:00      1        507   \n",
       "741   64548 2019-12-10 12:03:00      0        114   \n",
       "6664  62928 2019-11-09 20:36:00      2        104   \n",
       "4809  60325 2019-09-17 14:15:00      1        355   \n",
       "\n",
       "                                                   Tags  AnswerCount  \\\n",
       "4501          [deep-learning, cnn, batch-normalization]            1   \n",
       "3390  [machine-learning, classification, probability...            1   \n",
       "741                             [python, deep-learning]            1   \n",
       "6664               [overfitting, regularization, noise]            2   \n",
       "4809  [tensorflow, decision-trees, pytorch, numpy, p...            0   \n",
       "\n",
       "      FavoriteCount  DeepLearning  \n",
       "4501            NaN             1  \n",
       "3390            NaN             0  \n",
       "741             NaN             1  \n",
       "6664            NaN             0  \n",
       "4809            NaN             1  "
      ]
     },
     "execution_count": 25,
     "metadata": {},
     "output_type": "execute_result"
    }
   ],
   "source": [
    "all_q.sample(5)"
   ]
  },
  {
   "cell_type": "markdown",
   "metadata": {},
   "source": [
    "Looks good!\n",
    "\n",
    "The data-science-techonology landscape isn't something as dynamic to merit daily, weekly, or even monthly tracking. Let's track it quarterly.\n",
    "\n",
    "Since we don't have all the data for the first quarter of 2020, we'll get rid of those dates:"
   ]
  },
  {
   "cell_type": "code",
   "execution_count": 26,
   "metadata": {},
   "outputs": [],
   "source": [
    "all_q = all_q[all_q[\"CreationDate\"].dt.year < 2020]"
   ]
  },
  {
   "cell_type": "markdown",
   "metadata": {},
   "source": [
    "Let's create a column that identifies the quarter in which a question was asked."
   ]
  },
  {
   "cell_type": "code",
   "execution_count": 27,
   "metadata": {},
   "outputs": [],
   "source": [
    "def fetch_quarter(datetime):\n",
    "    year = str(datetime.year)[-2:]\n",
    "    quarter = str(((datetime.month-1) // 3) + 1)\n",
    "    return \"{y}Q{q}\".format(y=year, q=quarter)\n",
    "\n",
    "all_q[\"Quarter\"] = all_q[\"CreationDate\"].apply(fetch_quarter)"
   ]
  },
  {
   "cell_type": "code",
   "execution_count": 28,
   "metadata": {},
   "outputs": [
    {
     "data": {
      "text/html": [
       "<div>\n",
       "<style scoped>\n",
       "    .dataframe tbody tr th:only-of-type {\n",
       "        vertical-align: middle;\n",
       "    }\n",
       "\n",
       "    .dataframe tbody tr th {\n",
       "        vertical-align: top;\n",
       "    }\n",
       "\n",
       "    .dataframe thead th {\n",
       "        text-align: right;\n",
       "    }\n",
       "</style>\n",
       "<table border=\"1\" class=\"dataframe\">\n",
       "  <thead>\n",
       "    <tr style=\"text-align: right;\">\n",
       "      <th></th>\n",
       "      <th>Id</th>\n",
       "      <th>CreationDate</th>\n",
       "      <th>Score</th>\n",
       "      <th>ViewCount</th>\n",
       "      <th>Tags</th>\n",
       "      <th>AnswerCount</th>\n",
       "      <th>FavoriteCount</th>\n",
       "      <th>DeepLearning</th>\n",
       "      <th>Quarter</th>\n",
       "    </tr>\n",
       "  </thead>\n",
       "  <tbody>\n",
       "    <tr>\n",
       "      <th>0</th>\n",
       "      <td>53307</td>\n",
       "      <td>2019-06-06 07:29:00</td>\n",
       "      <td>0</td>\n",
       "      <td>256</td>\n",
       "      <td>[nlp, lstm, rnn, multiclass-classification, mu...</td>\n",
       "      <td>2</td>\n",
       "      <td>1.0</td>\n",
       "      <td>1</td>\n",
       "      <td>19Q2</td>\n",
       "    </tr>\n",
       "    <tr>\n",
       "      <th>1</th>\n",
       "      <td>53308</td>\n",
       "      <td>2019-06-06 07:55:00</td>\n",
       "      <td>7</td>\n",
       "      <td>1825</td>\n",
       "      <td>[machine-learning, deep-learning]</td>\n",
       "      <td>3</td>\n",
       "      <td>1.0</td>\n",
       "      <td>1</td>\n",
       "      <td>19Q2</td>\n",
       "    </tr>\n",
       "    <tr>\n",
       "      <th>2</th>\n",
       "      <td>53317</td>\n",
       "      <td>2019-06-06 09:26:00</td>\n",
       "      <td>0</td>\n",
       "      <td>22</td>\n",
       "      <td>[machine-learning-model, performance, features]</td>\n",
       "      <td>1</td>\n",
       "      <td>NaN</td>\n",
       "      <td>0</td>\n",
       "      <td>19Q2</td>\n",
       "    </tr>\n",
       "    <tr>\n",
       "      <th>3</th>\n",
       "      <td>53319</td>\n",
       "      <td>2019-06-06 09:52:00</td>\n",
       "      <td>2</td>\n",
       "      <td>148</td>\n",
       "      <td>[neural-network, cnn, dropout]</td>\n",
       "      <td>2</td>\n",
       "      <td>NaN</td>\n",
       "      <td>1</td>\n",
       "      <td>19Q2</td>\n",
       "    </tr>\n",
       "    <tr>\n",
       "      <th>4</th>\n",
       "      <td>53322</td>\n",
       "      <td>2019-06-06 10:06:00</td>\n",
       "      <td>2</td>\n",
       "      <td>438</td>\n",
       "      <td>[dataset]</td>\n",
       "      <td>2</td>\n",
       "      <td>NaN</td>\n",
       "      <td>0</td>\n",
       "      <td>19Q2</td>\n",
       "    </tr>\n",
       "  </tbody>\n",
       "</table>\n",
       "</div>"
      ],
      "text/plain": [
       "      Id        CreationDate  Score  ViewCount  \\\n",
       "0  53307 2019-06-06 07:29:00      0        256   \n",
       "1  53308 2019-06-06 07:55:00      7       1825   \n",
       "2  53317 2019-06-06 09:26:00      0         22   \n",
       "3  53319 2019-06-06 09:52:00      2        148   \n",
       "4  53322 2019-06-06 10:06:00      2        438   \n",
       "\n",
       "                                                Tags  AnswerCount  \\\n",
       "0  [nlp, lstm, rnn, multiclass-classification, mu...            2   \n",
       "1                  [machine-learning, deep-learning]            3   \n",
       "2    [machine-learning-model, performance, features]            1   \n",
       "3                     [neural-network, cnn, dropout]            2   \n",
       "4                                          [dataset]            2   \n",
       "\n",
       "   FavoriteCount  DeepLearning Quarter  \n",
       "0            1.0             1    19Q2  \n",
       "1            1.0             1    19Q2  \n",
       "2            NaN             0    19Q2  \n",
       "3            NaN             1    19Q2  \n",
       "4            NaN             0    19Q2  "
      ]
     },
     "execution_count": 28,
     "metadata": {},
     "output_type": "execute_result"
    }
   ],
   "source": [
    "all_q.head()"
   ]
  },
  {
   "cell_type": "markdown",
   "metadata": {},
   "source": [
    "For the final stretch of this screen, we'll group by quarter and:\n",
    "* Count the number of deep learning questions.\n",
    "* Count the total number of questions.\n",
    "* Compute the ratio between the two numbers above."
   ]
  },
  {
   "cell_type": "code",
   "execution_count": 29,
   "metadata": {},
   "outputs": [
    {
     "ename": "ValueError",
     "evalue": "Cannot take a larger sample than population when 'replace=False'",
     "output_type": "error",
     "traceback": [
      "\u001b[1;31m---------------------------------------------------------------------------\u001b[0m",
      "\u001b[1;31mValueError\u001b[0m                                Traceback (most recent call last)",
      "\u001b[1;32m<ipython-input-29-095254c4fb9b>\u001b[0m in \u001b[0;36m<module>\u001b[1;34m\u001b[0m\n\u001b[0;32m      5\u001b[0m \u001b[1;31m# The following is done to help with visualizations later.\u001b[0m\u001b[1;33m\u001b[0m\u001b[1;33m\u001b[0m\u001b[1;33m\u001b[0m\u001b[0m\n\u001b[0;32m      6\u001b[0m \u001b[0mquarterly\u001b[0m\u001b[1;33m.\u001b[0m\u001b[0mreset_index\u001b[0m\u001b[1;33m(\u001b[0m\u001b[0minplace\u001b[0m\u001b[1;33m=\u001b[0m\u001b[1;32mTrue\u001b[0m\u001b[1;33m)\u001b[0m\u001b[1;33m\u001b[0m\u001b[1;33m\u001b[0m\u001b[0m\n\u001b[1;32m----> 7\u001b[1;33m \u001b[0mquarterly\u001b[0m\u001b[1;33m.\u001b[0m\u001b[0msample\u001b[0m\u001b[1;33m(\u001b[0m\u001b[1;36m5\u001b[0m\u001b[1;33m)\u001b[0m\u001b[1;33m\u001b[0m\u001b[1;33m\u001b[0m\u001b[0m\n\u001b[0m",
      "\u001b[1;32m~\\anaconda3\\lib\\site-packages\\pandas\\core\\generic.py\u001b[0m in \u001b[0;36msample\u001b[1;34m(self, n, frac, replace, weights, random_state, axis)\u001b[0m\n\u001b[0;32m   5059\u001b[0m             )\n\u001b[0;32m   5060\u001b[0m \u001b[1;33m\u001b[0m\u001b[0m\n\u001b[1;32m-> 5061\u001b[1;33m         \u001b[0mlocs\u001b[0m \u001b[1;33m=\u001b[0m \u001b[0mrs\u001b[0m\u001b[1;33m.\u001b[0m\u001b[0mchoice\u001b[0m\u001b[1;33m(\u001b[0m\u001b[0maxis_length\u001b[0m\u001b[1;33m,\u001b[0m \u001b[0msize\u001b[0m\u001b[1;33m=\u001b[0m\u001b[0mn\u001b[0m\u001b[1;33m,\u001b[0m \u001b[0mreplace\u001b[0m\u001b[1;33m=\u001b[0m\u001b[0mreplace\u001b[0m\u001b[1;33m,\u001b[0m \u001b[0mp\u001b[0m\u001b[1;33m=\u001b[0m\u001b[0mweights\u001b[0m\u001b[1;33m)\u001b[0m\u001b[1;33m\u001b[0m\u001b[1;33m\u001b[0m\u001b[0m\n\u001b[0m\u001b[0;32m   5062\u001b[0m         \u001b[1;32mreturn\u001b[0m \u001b[0mself\u001b[0m\u001b[1;33m.\u001b[0m\u001b[0mtake\u001b[0m\u001b[1;33m(\u001b[0m\u001b[0mlocs\u001b[0m\u001b[1;33m,\u001b[0m \u001b[0maxis\u001b[0m\u001b[1;33m=\u001b[0m\u001b[0maxis\u001b[0m\u001b[1;33m)\u001b[0m\u001b[1;33m\u001b[0m\u001b[1;33m\u001b[0m\u001b[0m\n\u001b[0;32m   5063\u001b[0m \u001b[1;33m\u001b[0m\u001b[0m\n",
      "\u001b[1;32mmtrand.pyx\u001b[0m in \u001b[0;36mnumpy.random.mtrand.RandomState.choice\u001b[1;34m()\u001b[0m\n",
      "\u001b[1;31mValueError\u001b[0m: Cannot take a larger sample than population when 'replace=False'"
     ]
    }
   ],
   "source": [
    "quarterly = all_q.groupby('Quarter').agg({\"DeepLearning\": ['sum', 'size']})\n",
    "quarterly.columns = ['DeepLearningQuestions', 'TotalQuestions']\n",
    "quarterly[\"DeepLearningRate\"] = quarterly[\"DeepLearningQuestions\"]\\\n",
    "                                /quarterly[\"TotalQuestions\"]\n",
    "# The following is done to help with visualizations later.\n",
    "quarterly.reset_index(inplace=True)\n",
    "quarterly.sample(5)"
   ]
  },
  {
   "cell_type": "code",
   "execution_count": 30,
   "metadata": {},
   "outputs": [
    {
     "data": {
      "image/png": "[encoded data removed]",
      "text/plain": [
       "<Figure size 1728x864 with 2 Axes>"
      ]
     },
     "metadata": {
      "needs_background": "light"
     },
     "output_type": "display_data"
    }
   ],
   "source": [
    "ax1 = quarterly.plot(x=\"Quarter\", y=\"DeepLearningRate\",\n",
    "                    kind=\"line\", linestyle=\"-\", marker=\"o\", color=\"orange\",\n",
    "                    figsize=(24,12)\n",
    "                    )\n",
    "\n",
    "ax2 = quarterly.plot(x=\"Quarter\", y=\"TotalQuestions\",\n",
    "                     kind=\"bar\", ax=ax1, secondary_y=True, alpha=0.7, rot=45)\n",
    "\n",
    "for idx, t in quarterly[\"TotalQuestions\"].iteritems():\n",
    "    ax2.text(idx, t, str(t), ha=\"center\", va=\"bottom\")\n",
    "xlims = ax1.get_xlim()\n",
    "\n",
    "ax1.get_legend().remove()\n",
    "\n",
    "handles1, labels1 = ax1.get_legend_handles_labels()\n",
    "handles2, labels2 = ax2.get_legend_handles_labels()\n",
    "ax1.legend(handles=handles1 + handles2,\n",
    "           labels=labels1 + labels2,\n",
    "           loc=\"upper left\", prop={\"size\": 12})\n",
    "\n",
    "\n",
    "for ax in (ax1, ax2):\n",
    "    for where in (\"top\", \"right\"):\n",
    "        ax.spines[where].set_visible(False)\n",
    "        ax.tick_params(right=False, labelright=False)"
   ]
  },
  {
   "cell_type": "markdown",
   "metadata": {},
   "source": [
    "It seems that deep learning questions was a high-growth trend since the start of DSSE and it looks like it is plateauing. There is no evidence to suggest that interest in deep learning is decreasing and so we maintain our previous idea of proposing that we create deep learning content."
   ]
  }
 ],
 "metadata": {
  "kernelspec": {
   "display_name": "Python 3",
   "language": "python",
   "name": "python3"
  },
  "language_info": {
   "codemirror_mode": {
    "name": "ipython",
    "version": 3
   },
   "file_extension": ".py",
   "mimetype": "text/x-python",
   "name": "python",
   "nbconvert_exporter": "python",
   "pygments_lexer": "ipython3",
   "version": "3.8.3"
  }
 },
 "nbformat": 4,
 "nbformat_minor": 4
}
